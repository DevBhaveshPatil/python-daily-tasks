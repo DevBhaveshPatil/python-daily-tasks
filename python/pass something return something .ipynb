{
 "cells": [
  {
   "cell_type": "code",
   "execution_count": 1,
   "id": "d5205097-ba2b-4d40-8ca5-38faaf583fa3",
   "metadata": {},
   "outputs": [],
   "source": [
    "def addition(n1,n2):\n",
    "    res=n1+n2\n",
    "    return res"
   ]
  },
  {
   "cell_type": "code",
   "execution_count": 3,
   "id": "5b177574-efee-42a1-8da1-5a0098e93ce4",
   "metadata": {},
   "outputs": [
    {
     "data": {
      "text/plain": [
       "3"
      ]
     },
     "execution_count": 3,
     "metadata": {},
     "output_type": "execute_result"
    }
   ],
   "source": [
    "addition(1,2)"
   ]
  },
  {
   "cell_type": "code",
   "execution_count": 5,
   "id": "79abb947-966e-474e-ab3f-4e0c3c9b0e65",
   "metadata": {},
   "outputs": [],
   "source": [
    "def subtraction(n1,n2):\n",
    "    res=n1-n2\n",
    "    return res"
   ]
  },
  {
   "cell_type": "code",
   "execution_count": 7,
   "id": "c7cf9e48-c21a-42f4-b36a-b1356e6ccbfd",
   "metadata": {},
   "outputs": [
    {
     "data": {
      "text/plain": [
       "1"
      ]
     },
     "execution_count": 7,
     "metadata": {},
     "output_type": "execute_result"
    }
   ],
   "source": [
    "subtraction(5,4)"
   ]
  },
  {
   "cell_type": "code",
   "execution_count": 9,
   "id": "e8bce07d-0c9f-4235-9213-28e15c9f660b",
   "metadata": {},
   "outputs": [],
   "source": [
    "def multiplication(n1,n2):\n",
    "    res=n1*n2\n",
    "    return res"
   ]
  },
  {
   "cell_type": "code",
   "execution_count": 11,
   "id": "f9b78a84-2c45-4f71-af06-7821b03ce588",
   "metadata": {},
   "outputs": [
    {
     "data": {
      "text/plain": [
       "6"
      ]
     },
     "execution_count": 11,
     "metadata": {},
     "output_type": "execute_result"
    }
   ],
   "source": [
    "multiplication(2,3)"
   ]
  },
  {
   "cell_type": "code",
   "execution_count": 13,
   "id": "2ef2c521-29ab-4079-9c87-27c1646ae578",
   "metadata": {},
   "outputs": [],
   "source": [
    "def division(n1,n2):\n",
    "    res=n1/n2\n",
    "    return res"
   ]
  },
  {
   "cell_type": "code",
   "execution_count": 17,
   "id": "a7d09c39-d5bd-4de9-b494-08c460c181f3",
   "metadata": {},
   "outputs": [
    {
     "data": {
      "text/plain": [
       "3.0"
      ]
     },
     "execution_count": 17,
     "metadata": {},
     "output_type": "execute_result"
    }
   ],
   "source": [
    "division(6,2)"
   ]
  },
  {
   "cell_type": "code",
   "execution_count": 23,
   "id": "af9f991a-7e14-4868-979b-657959d22247",
   "metadata": {},
   "outputs": [],
   "source": [
    "def modulus(n1,n2):\n",
    "    res=n1%n2\n",
    "    return res"
   ]
  },
  {
   "cell_type": "code",
   "execution_count": 25,
   "id": "53b06337-0fc5-4947-9b82-9c4fbfe46bbd",
   "metadata": {},
   "outputs": [
    {
     "data": {
      "text/plain": [
       "0"
      ]
     },
     "execution_count": 25,
     "metadata": {},
     "output_type": "execute_result"
    }
   ],
   "source": [
    "modulus(4,2)"
   ]
  },
  {
   "cell_type": "code",
   "execution_count": 27,
   "id": "8eeec075-1f62-45df-97a6-8f8012fe510e",
   "metadata": {},
   "outputs": [],
   "source": [
    "def square(n1):\n",
    "    res=n1**2\n",
    "    return res"
   ]
  },
  {
   "cell_type": "code",
   "execution_count": 29,
   "id": "0ec63bac-64c7-4699-8732-9bf74b648418",
   "metadata": {},
   "outputs": [
    {
     "data": {
      "text/plain": [
       "16"
      ]
     },
     "execution_count": 29,
     "metadata": {},
     "output_type": "execute_result"
    }
   ],
   "source": [
    "square(4)"
   ]
  },
  {
   "cell_type": "code",
   "execution_count": 31,
   "id": "2ac2ca1d-f190-418d-b7fa-5b55fbf5a8fa",
   "metadata": {},
   "outputs": [],
   "source": [
    "def square_root(n1):\n",
    "    res=n1**0.5\n",
    "    return res"
   ]
  },
  {
   "cell_type": "code",
   "execution_count": 33,
   "id": "bbadf807-22cf-49da-a5bd-99d6618dd812",
   "metadata": {},
   "outputs": [
    {
     "data": {
      "text/plain": [
       "4.0"
      ]
     },
     "execution_count": 33,
     "metadata": {},
     "output_type": "execute_result"
    }
   ],
   "source": [
    "square_root(16)"
   ]
  },
  {
   "cell_type": "code",
   "execution_count": 35,
   "id": "dbb60779-e7a4-4def-a7d0-54c2d49390f8",
   "metadata": {},
   "outputs": [],
   "source": [
    "def circle_area(radius):\n",
    "    res=3.14*radius**2\n",
    "    return res"
   ]
  },
  {
   "cell_type": "code",
   "execution_count": 37,
   "id": "060dd88e-2757-480b-bac2-b9dbf9898fa3",
   "metadata": {},
   "outputs": [
    {
     "data": {
      "text/plain": [
       "78.5"
      ]
     },
     "execution_count": 37,
     "metadata": {},
     "output_type": "execute_result"
    }
   ],
   "source": [
    " circle_area(5)"
   ]
  },
  {
   "cell_type": "code",
   "execution_count": 39,
   "id": "ffeb170f-0353-4c8a-89e4-4308e82ef231",
   "metadata": {},
   "outputs": [],
   "source": [
    "def squarearea(side):\n",
    "    res=side**2\n",
    "    return res"
   ]
  },
  {
   "cell_type": "code",
   "execution_count": 41,
   "id": "9f1e773b-b017-4418-8537-50189232cf28",
   "metadata": {},
   "outputs": [
    {
     "data": {
      "text/plain": [
       "25"
      ]
     },
     "execution_count": 41,
     "metadata": {},
     "output_type": "execute_result"
    }
   ],
   "source": [
    "squarearea(5)"
   ]
  },
  {
   "cell_type": "code",
   "execution_count": 43,
   "id": "516bdffc-47f7-457f-a350-f343afa7a2a9",
   "metadata": {},
   "outputs": [],
   "source": [
    "def trianglearea(base,height):\n",
    "    res=0.5*base*height\n",
    "    return res"
   ]
  },
  {
   "cell_type": "code",
   "execution_count": 45,
   "id": "28ecf6ab-0f6c-442c-be6c-e275c9035533",
   "metadata": {},
   "outputs": [
    {
     "data": {
      "text/plain": [
       "5.0"
      ]
     },
     "execution_count": 45,
     "metadata": {},
     "output_type": "execute_result"
    }
   ],
   "source": [
    "trianglearea(2,5)"
   ]
  },
  {
   "cell_type": "code",
   "execution_count": 47,
   "id": "b2e93b56-cc61-452b-a04f-8dd3fc6940a4",
   "metadata": {},
   "outputs": [],
   "source": [
    "def rectanglearea(length,breadth):\n",
    "    res=length*breadth\n",
    "    return res"
   ]
  },
  {
   "cell_type": "code",
   "execution_count": 49,
   "id": "376cc580-595e-4601-b8fa-0cd5900189fd",
   "metadata": {},
   "outputs": [
    {
     "data": {
      "text/plain": [
       "10"
      ]
     },
     "execution_count": 49,
     "metadata": {},
     "output_type": "execute_result"
    }
   ],
   "source": [
    "rectanglearea(2,5)"
   ]
  },
  {
   "cell_type": "code",
   "execution_count": 61,
   "id": "1b6b6bb9-9763-427d-8922-830582d4d45b",
   "metadata": {},
   "outputs": [],
   "source": [
    "def trapeziumarea(b1,b2,h):\n",
    "    res=(b1+b2*0.5)*h\n",
    "    return res"
   ]
  },
  {
   "cell_type": "code",
   "execution_count": 63,
   "id": "060abf57-e23b-4aa5-a35d-1540e797eae5",
   "metadata": {},
   "outputs": [
    {
     "data": {
      "text/plain": [
       "24.5"
      ]
     },
     "execution_count": 63,
     "metadata": {},
     "output_type": "execute_result"
    }
   ],
   "source": [
    "trapeziumarea(2,3,7)"
   ]
  },
  {
   "cell_type": "code",
   "execution_count": null,
   "id": "3c0777f5-92c7-4432-827c-fdcd593ce0ef",
   "metadata": {},
   "outputs": [],
   "source": []
  }
 ],
 "metadata": {
  "kernelspec": {
   "display_name": "Python 3 (ipykernel)",
   "language": "python",
   "name": "python3"
  },
  "language_info": {
   "codemirror_mode": {
    "name": "ipython",
    "version": 3
   },
   "file_extension": ".py",
   "mimetype": "text/x-python",
   "name": "python",
   "nbconvert_exporter": "python",
   "pygments_lexer": "ipython3",
   "version": "3.12.4"
  }
 },
 "nbformat": 4,
 "nbformat_minor": 5
}
