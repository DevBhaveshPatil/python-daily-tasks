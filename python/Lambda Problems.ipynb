{
 "cells": [
  {
   "cell_type": "code",
   "execution_count": 1,
   "id": "899328e5-480e-466f-ba45-c444f3089133",
   "metadata": {},
   "outputs": [],
   "source": [
    "#Count the number of vowels in a string:\n",
    "count_vowels = lambda s: sum(1 for char in s if char in 'aeiouAEIOU')\n"
   ]
  },
  {
   "cell_type": "code",
   "execution_count": 3,
   "id": "476339e5-f2af-48a1-8949-2095c4bcba78",
   "metadata": {},
   "outputs": [
    {
     "data": {
      "text/plain": [
       "2"
      ]
     },
     "execution_count": 3,
     "metadata": {},
     "output_type": "execute_result"
    }
   ],
   "source": [
    "count_vowels('Bhavesh')"
   ]
  },
  {
   "cell_type": "code",
   "execution_count": 5,
   "id": "70c5cfd6-a205-4928-a33f-e625099f00a8",
   "metadata": {},
   "outputs": [],
   "source": [
    "# Count the number of consonants in a string:\n",
    "count_consonants = lambda s: sum(1 for char in s if char.isalpha() and char not in 'aeiouAEIOU')\n"
   ]
  },
  {
   "cell_type": "code",
   "execution_count": 7,
   "id": "0da536e6-b428-4f76-b4c1-85c3a6ad14ce",
   "metadata": {},
   "outputs": [
    {
     "data": {
      "text/plain": [
       "5"
      ]
     },
     "execution_count": 7,
     "metadata": {},
     "output_type": "execute_result"
    }
   ],
   "source": [
    "count_consonants('Bhavesh')"
   ]
  },
  {
   "cell_type": "code",
   "execution_count": 15,
   "id": "99767996-1f9b-4bd4-8651-c8f54280e23e",
   "metadata": {},
   "outputs": [],
   "source": [
    "# Sort a list of numbersin ascending order:\n",
    "sort_ascending = lambda lst: sorted(lst)\n"
   ]
  },
  {
   "cell_type": "code",
   "execution_count": 25,
   "id": "4a5a818d-ae1e-4d6b-9289-da08fbcb2c29",
   "metadata": {},
   "outputs": [],
   "source": [
    "# Calculate the volume of a cube:\n",
    "volume_cube = lambda side: side ** 3\n"
   ]
  },
  {
   "cell_type": "code",
   "execution_count": 27,
   "id": "c4cb3c45-aff6-4071-a937-819cefbfabb0",
   "metadata": {},
   "outputs": [
    {
     "data": {
      "text/plain": [
       "2744"
      ]
     },
     "execution_count": 27,
     "metadata": {},
     "output_type": "execute_result"
    }
   ],
   "source": [
    "volume_cube(14)"
   ]
  },
  {
   "cell_type": "code",
   "execution_count": 29,
   "id": "08791d48-df33-4cc4-884b-54803d52fbe6",
   "metadata": {},
   "outputs": [],
   "source": [
    "# Convert Fahrenheit to Celsius:\n",
    "fahrenheit_to_celsius = lambda f: (f - 32) * 5/9\n"
   ]
  },
  {
   "cell_type": "code",
   "execution_count": 31,
   "id": "09e52d80-5a56-4171-9e9d-4b633912dd16",
   "metadata": {},
   "outputs": [
    {
     "data": {
      "text/plain": [
       "43.333333333333336"
      ]
     },
     "execution_count": 31,
     "metadata": {},
     "output_type": "execute_result"
    }
   ],
   "source": [
    "fahrenheit_to_celsius(110)"
   ]
  },
  {
   "cell_type": "code",
   "execution_count": null,
   "id": "7b20ce93-fa8a-4756-8dce-d5c5a13f9aa5",
   "metadata": {},
   "outputs": [],
   "source": []
  }
 ],
 "metadata": {
  "kernelspec": {
   "display_name": "Python 3 (ipykernel)",
   "language": "python",
   "name": "python3"
  },
  "language_info": {
   "codemirror_mode": {
    "name": "ipython",
    "version": 3
   },
   "file_extension": ".py",
   "mimetype": "text/x-python",
   "name": "python",
   "nbconvert_exporter": "python",
   "pygments_lexer": "ipython3",
   "version": "3.12.4"
  }
 },
 "nbformat": 4,
 "nbformat_minor": 5
}
