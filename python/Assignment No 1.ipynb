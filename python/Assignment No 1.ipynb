{
 "cells": [
  {
   "cell_type": "code",
   "execution_count": 11,
   "id": "ada40e51-1348-4861-8998-6d398dd61903",
   "metadata": {},
   "outputs": [
    {
     "name": "stdin",
     "output_type": "stream",
     "text": [
      "please enter the Number 25\n"
     ]
    },
    {
     "name": "stdout",
     "output_type": "stream",
     "text": [
      "25 is a odd number\n"
     ]
    }
   ],
   "source": [
    "#Write a code for Identifing number Even or Odd\n",
    "a=int(input(\"please enter the Number\"))\n",
    "if(a%2==0):\n",
    "    print(a,\"is a even number\")\n",
    "elif(a%2!=0):\n",
    "    print(a,\"is a odd number\")\n",
    "else:\n",
    "    print(a,\"is neither odd or even\")"
   ]
  },
  {
   "cell_type": "code",
   "execution_count": 17,
   "id": "593c5cca-1f5e-4c29-94c5-5e7e9a9834c4",
   "metadata": {},
   "outputs": [
    {
     "name": "stdin",
     "output_type": "stream",
     "text": [
      "please enter the Number -344444\n"
     ]
    },
    {
     "name": "stdout",
     "output_type": "stream",
     "text": [
      "-344444 is a negative number\n"
     ]
    }
   ],
   "source": [
    "#Write a code for Number to identify it is positive,negative or neutral\n",
    "a=int(input(\"please enter the Number\"))\n",
    "if(a<0):\n",
    "     print(a,\"is a negative number\")\n",
    "elif(a>0):\n",
    "     print(a,\"is a positive number\") \n",
    "else:\n",
    "   print(a,\"is a neutral number\") "
   ]
  },
  {
   "cell_type": "code",
   "execution_count": null,
   "id": "bc982af8-fa6e-48a6-8f61-c3e1fcf54825",
   "metadata": {},
   "outputs": [],
   "source": []
  }
 ],
 "metadata": {
  "kernelspec": {
   "display_name": "Python 3 (ipykernel)",
   "language": "python",
   "name": "python3"
  },
  "language_info": {
   "codemirror_mode": {
    "name": "ipython",
    "version": 3
   },
   "file_extension": ".py",
   "mimetype": "text/x-python",
   "name": "python",
   "nbconvert_exporter": "python",
   "pygments_lexer": "ipython3",
   "version": "3.12.4"
  }
 },
 "nbformat": 4,
 "nbformat_minor": 5
}
