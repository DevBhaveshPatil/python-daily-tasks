{
 "cells": [
  {
   "cell_type": "code",
   "execution_count": 1,
   "id": "cc4fee10-8e44-4e60-814f-7c010d054c1c",
   "metadata": {},
   "outputs": [
    {
     "name": "stdout",
     "output_type": "stream",
     "text": [
      "0\n",
      "1\n",
      "2\n",
      "3\n",
      "4\n",
      "5\n",
      "6\n",
      "7\n",
      "8\n",
      "9\n",
      "10\n",
      "Hello Moto\n"
     ]
    }
   ],
   "source": [
    "# while loop\n",
    "a=0\n",
    "while(a<=10):\n",
    "    print(a)\n",
    "    a+=1\n",
    "print(\"Hello Moto\")    \n"
   ]
  },
  {
   "cell_type": "code",
   "execution_count": 5,
   "id": "1bc99604-6c2d-48ed-b4e8-0f056847a0e0",
   "metadata": {},
   "outputs": [
    {
     "name": "stdin",
     "output_type": "stream",
     "text": [
      "Enter the number for which you want multiplication table 2\n"
     ]
    },
    {
     "name": "stdout",
     "output_type": "stream",
     "text": [
      "2 x 1 = 2\n",
      "2 x 2 = 4\n",
      "2 x 3 = 6\n",
      "2 x 4 = 8\n",
      "2 x 5 = 10\n",
      "2 x 6 = 12\n",
      "2 x 7 = 14\n",
      "2 x 8 = 16\n",
      "2 x 9 = 18\n",
      "2 x 10 = 20\n",
      "Here is your Table of 2\n"
     ]
    }
   ],
   "source": [
    "a=int(input(\"Enter the number for which you want multiplication table\"))\n",
    "b=1\n",
    "while(b<=10):\n",
    "   print(a,\"x\",b,\"=\",a*b)\n",
    "   b+=1\n",
    "print(\"Here is your Table of\",a)    "
   ]
  },
  {
   "cell_type": "code",
   "execution_count": null,
   "id": "5ae81dea-9757-40ab-80bf-085df16af14d",
   "metadata": {},
   "outputs": [
    {
     "name": "stdin",
     "output_type": "stream",
     "text": [
      "Enter the number for which you factorial 5\n"
     ]
    }
   ],
   "source": [
    "#factorial problem (*****)\n",
    "a=int(input(\"Enter the number for which you factorial\"))\n",
    "b=1\n",
    "while a>=1:\n",
    "   a=b*a\n",
    "   a-=1\n",
    "print(\"Here is Factorial of \",b)"
   ]
  },
  {
   "cell_type": "code",
   "execution_count": 1,
   "id": "fb0a31a6-1abe-45a4-b636-75c94b1b9eed",
   "metadata": {},
   "outputs": [
    {
     "name": "stdin",
     "output_type": "stream",
     "text": [
      "Enter the number which digits's sum you want 123\n"
     ]
    },
    {
     "name": "stdout",
     "output_type": "stream",
     "text": [
      "6\n"
     ]
    }
   ],
   "source": [
    "\n",
    "#sum of digits of given number (******)\n",
    "#123=1+2+3=6\n",
    "a=int(input(\"Enter the number which digits's sum you want\"))\n",
    "sum=0\n",
    "while a>0:\n",
    "   sum+=a%10\n",
    "   a//=10\n",
    "print(sum)\n",
    "\n",
    "\n",
    "\n",
    "    \n",
    "\n"
   ]
  },
  {
   "cell_type": "code",
   "execution_count": null,
   "id": "dc2211ac-814e-4b2f-a6a6-81b08930edbd",
   "metadata": {},
   "outputs": [],
   "source": []
  }
 ],
 "metadata": {
  "kernelspec": {
   "display_name": "Python 3 (ipykernel)",
   "language": "python",
   "name": "python3"
  },
  "language_info": {
   "codemirror_mode": {
    "name": "ipython",
    "version": 3
   },
   "file_extension": ".py",
   "mimetype": "text/x-python",
   "name": "python",
   "nbconvert_exporter": "python",
   "pygments_lexer": "ipython3",
   "version": "3.12.4"
  }
 },
 "nbformat": 4,
 "nbformat_minor": 5
}
