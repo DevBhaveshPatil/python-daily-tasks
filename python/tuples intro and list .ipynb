{
 "cells": [
  {
   "cell_type": "raw",
   "id": "db73aed8-6098-4e95-894f-c468e62dfa43",
   "metadata": {},
   "source": []
  },
  {
   "cell_type": "markdown",
   "id": "05260074-bd58-497a-9724-9078a43237dd",
   "metadata": {},
   "source": []
  },
  {
   "cell_type": "code",
   "execution_count": null,
   "id": "1bd1e225-0746-449b-b1a8-c491e156ac0b",
   "metadata": {},
   "outputs": [],
   "source": []
  },
  {
   "cell_type": "code",
   "execution_count": 38,
   "id": "fab43437-fda3-43d5-8adf-1b5617c42f31",
   "metadata": {},
   "outputs": [
    {
     "name": "stdin",
     "output_type": "stream",
     "text": [
      "Enter number of elements :  10\n",
      " 1\n",
      " 2\n",
      " 3\n",
      " 4\n",
      " 5\n",
      " 6\n",
      " 7\n",
      " 8\n",
      " 9\n",
      " 10\n"
     ]
    },
    {
     "name": "stdout",
     "output_type": "stream",
     "text": [
      "[1, 2, 3, 4, 5, 6, 7, 8, 9, 10]\n",
      "[4, 16, 36, 64, 100]\n",
      "[0.0, 1.2679491924311228, 2.76393202250021, 4.354248688935409, 6.0]\n",
      "5\n",
      "5\n"
     ]
    }
   ],
   "source": [
    "\n",
    "lst = []\n",
    "l1= []\n",
    "l2= []\n",
    "ev=od=0\n",
    "n = int(input(\"Enter number of elements : \"))\n",
    "for i in range(0, n):\n",
    "    ele = int(input())\n",
    "    lst.append(ele) \n",
    "    if ele%2==0:\n",
    "        l1.append(ele**2)\n",
    "        ev=ev+1\n",
    "    else:\n",
    "        l2.append(ele-(ele**0.5))\n",
    "        od=od+1\n",
    "print(lst)\n",
    "print(l1)\n",
    "print(l2)\n",
    "print(ev)\n",
    "print(od)\n"
   ]
  },
  {
   "cell_type": "code",
   "execution_count": 40,
   "id": "5690cda4-494c-44cd-8c78-2e95a1cc0898",
   "metadata": {},
   "outputs": [],
   "source": [
    "t=tuple()\n"
   ]
  },
  {
   "cell_type": "code",
   "execution_count": 42,
   "id": "b9a85f40-e47f-41a2-b8ed-893be26969b0",
   "metadata": {},
   "outputs": [
    {
     "name": "stdout",
     "output_type": "stream",
     "text": [
      "<class 'tuple'>\n"
     ]
    }
   ],
   "source": [
    "print(type(t))"
   ]
  },
  {
   "cell_type": "code",
   "execution_count": 44,
   "id": "3d62a8a1-3cd6-4184-b4ef-a5f90eaa616b",
   "metadata": {},
   "outputs": [],
   "source": [
    "t1=()\n"
   ]
  },
  {
   "cell_type": "code",
   "execution_count": 46,
   "id": "f8558bdc-7f89-4a84-8b9a-4d2a3008cf93",
   "metadata": {},
   "outputs": [
    {
     "data": {
      "text/plain": [
       "tuple"
      ]
     },
     "execution_count": 46,
     "metadata": {},
     "output_type": "execute_result"
    }
   ],
   "source": [
    "type(t1\n",
    "    )"
   ]
  },
  {
   "cell_type": "code",
   "execution_count": 50,
   "id": "d4df5c60-eb86-43e3-95f7-6d996adfca7a",
   "metadata": {},
   "outputs": [],
   "source": [
    "t2=(2,344,432,34,443)"
   ]
  },
  {
   "cell_type": "code",
   "execution_count": 52,
   "id": "216bfae8-44b4-404e-a5d5-1248f590f158",
   "metadata": {},
   "outputs": [
    {
     "data": {
      "text/plain": [
       "(2, 344, 432, 34, 443)"
      ]
     },
     "execution_count": 52,
     "metadata": {},
     "output_type": "execute_result"
    }
   ],
   "source": [
    "t2"
   ]
  },
  {
   "cell_type": "code",
   "execution_count": 56,
   "id": "bf56a03b-7fc7-4964-8627-acfbfd25966e",
   "metadata": {},
   "outputs": [
    {
     "data": {
      "text/plain": [
       "443"
      ]
     },
     "execution_count": 56,
     "metadata": {},
     "output_type": "execute_result"
    }
   ],
   "source": [
    "t2[4]"
   ]
  },
  {
   "cell_type": "code",
   "execution_count": 58,
   "id": "d7032d7d-7ad5-4060-b906-c3d7f697966e",
   "metadata": {},
   "outputs": [
    {
     "ename": "SyntaxError",
     "evalue": "invalid syntax (2781817905.py, line 1)",
     "output_type": "error",
     "traceback": [
      "\u001b[1;36m  Cell \u001b[1;32mIn[58], line 1\u001b[1;36m\u001b[0m\n\u001b[1;33m    t2[1;2]\u001b[0m\n\u001b[1;37m        ^\u001b[0m\n\u001b[1;31mSyntaxError\u001b[0m\u001b[1;31m:\u001b[0m invalid syntax\n"
     ]
    }
   ],
   "source": [
    "t2[1;2]"
   ]
  },
  {
   "cell_type": "code",
   "execution_count": 60,
   "id": "5d75a1fe-9497-4b68-8bd2-415b8fa2178f",
   "metadata": {},
   "outputs": [
    {
     "data": {
      "text/plain": [
       "(344,)"
      ]
     },
     "execution_count": 60,
     "metadata": {},
     "output_type": "execute_result"
    }
   ],
   "source": [
    "t2[1:2]"
   ]
  },
  {
   "cell_type": "code",
   "execution_count": 62,
   "id": "18e04d92-bf67-4257-8544-88d8fd86919f",
   "metadata": {},
   "outputs": [
    {
     "data": {
      "text/plain": [
       "(344, 432)"
      ]
     },
     "execution_count": 62,
     "metadata": {},
     "output_type": "execute_result"
    }
   ],
   "source": [
    "t2[1:3:1]"
   ]
  },
  {
   "cell_type": "code",
   "execution_count": 64,
   "id": "6926d9ba-47eb-47b5-99bf-240446fbb9fe",
   "metadata": {},
   "outputs": [
    {
     "ename": "NameError",
     "evalue": "name 't4' is not defined",
     "output_type": "error",
     "traceback": [
      "\u001b[1;31m---------------------------------------------------------------------------\u001b[0m",
      "\u001b[1;31mNameError\u001b[0m                                 Traceback (most recent call last)",
      "Cell \u001b[1;32mIn[64], line 1\u001b[0m\n\u001b[1;32m----> 1\u001b[0m t4[\u001b[38;5;241m1\u001b[39m]\n",
      "\u001b[1;31mNameError\u001b[0m: name 't4' is not defined"
     ]
    }
   ],
   "source": [
    "t4[1]"
   ]
  },
  {
   "cell_type": "code",
   "execution_count": 66,
   "id": "b4b82d29-3aec-48cf-a3a4-1e218f86eab8",
   "metadata": {},
   "outputs": [
    {
     "data": {
      "text/plain": [
       "344"
      ]
     },
     "execution_count": 66,
     "metadata": {},
     "output_type": "execute_result"
    }
   ],
   "source": [
    "t2[1]"
   ]
  },
  {
   "cell_type": "code",
   "execution_count": 68,
   "id": "b649c625-855a-4f78-b2ed-15c3beefa797",
   "metadata": {},
   "outputs": [
    {
     "data": {
      "text/plain": [
       "443"
      ]
     },
     "execution_count": 68,
     "metadata": {},
     "output_type": "execute_result"
    }
   ],
   "source": [
    "t2[-1]"
   ]
  },
  {
   "cell_type": "code",
   "execution_count": 76,
   "id": "4a99e5df-317b-463d-bc63-c63cbcac6906",
   "metadata": {},
   "outputs": [],
   "source": [
    "t5=(4,3,6,2,4,5,[4,8,3],4,6)"
   ]
  },
  {
   "cell_type": "code",
   "execution_count": 72,
   "id": "96504b13-7146-4305-ae7b-611680c90857",
   "metadata": {},
   "outputs": [],
   "source": [
    "t5[6][1]=90\n"
   ]
  },
  {
   "cell_type": "code",
   "execution_count": 74,
   "id": "8f816615-c12f-4fa0-a3be-61c324709ad6",
   "metadata": {},
   "outputs": [
    {
     "data": {
      "text/plain": [
       "9"
      ]
     },
     "execution_count": 74,
     "metadata": {},
     "output_type": "execute_result"
    }
   ],
   "source": [
    "len(t5)"
   ]
  },
  {
   "cell_type": "code",
   "execution_count": 78,
   "id": "d3dcda30-28ec-4e95-a9cf-8d59aed43feb",
   "metadata": {},
   "outputs": [
    {
     "data": {
      "text/plain": [
       "3"
      ]
     },
     "execution_count": 78,
     "metadata": {},
     "output_type": "execute_result"
    }
   ],
   "source": [
    "t5.count(4)"
   ]
  },
  {
   "cell_type": "code",
   "execution_count": null,
   "id": "10d112b2-cc7b-400b-9276-3fd47f058305",
   "metadata": {},
   "outputs": [],
   "source": []
  },
  {
   "cell_type": "code",
   "execution_count": 82,
   "id": "7741e4f3-0412-4ba8-ad96-7961807d95c9",
   "metadata": {
    "jp-MarkdownHeadingCollapsed": true
   },
   "outputs": [
    {
     "data": {
      "text/plain": [
       "True"
      ]
     },
     "execution_count": 82,
     "metadata": {},
     "output_type": "execute_result"
    }
   ],
   "source": [
    "4 in t5"
   ]
  },
  {
   "cell_type": "code",
   "execution_count": 84,
   "id": "3fdec2a3-7aaa-4ec3-8aab-1dae497f65f9",
   "metadata": {},
   "outputs": [
    {
     "ename": "TypeError",
     "evalue": "'<' not supported between instances of 'list' and 'int'",
     "output_type": "error",
     "traceback": [
      "\u001b[1;31m---------------------------------------------------------------------------\u001b[0m",
      "\u001b[1;31mTypeError\u001b[0m                                 Traceback (most recent call last)",
      "Cell \u001b[1;32mIn[84], line 1\u001b[0m\n\u001b[1;32m----> 1\u001b[0m \u001b[38;5;28msorted\u001b[39m(t5)\n",
      "\u001b[1;31mTypeError\u001b[0m: '<' not supported between instances of 'list' and 'int'"
     ]
    }
   ],
   "source": [
    "sorted(t5)"
   ]
  },
  {
   "cell_type": "code",
   "execution_count": 86,
   "id": "a2181515-47b4-4bd6-92ca-ce6e028ddb6f",
   "metadata": {},
   "outputs": [],
   "source": [
    "t1=(1,2,3,4,4,5,5,5,4,3)"
   ]
  },
  {
   "cell_type": "code",
   "execution_count": 88,
   "id": "c4a3ce56-c316-4898-841c-065ccfb7cf7c",
   "metadata": {},
   "outputs": [
    {
     "data": {
      "text/plain": [
       "[1, 2, 3, 3, 4, 4, 4, 5, 5, 5]"
      ]
     },
     "execution_count": 88,
     "metadata": {},
     "output_type": "execute_result"
    }
   ],
   "source": [
    "sorted(t1)"
   ]
  },
  {
   "cell_type": "code",
   "execution_count": 90,
   "id": "507935bf-97b5-43c8-8bc1-ae3a0b6a94c0",
   "metadata": {},
   "outputs": [
    {
     "data": {
      "text/plain": [
       "[5, 5, 5, 4, 4, 4, 3, 3, 2, 1]"
      ]
     },
     "execution_count": 90,
     "metadata": {},
     "output_type": "execute_result"
    }
   ],
   "source": [
    "sorted(t1,reverse=True)"
   ]
  },
  {
   "cell_type": "code",
   "execution_count": 26,
   "id": "3fc5ad99-0aa7-4117-b162-33dfba329045",
   "metadata": {},
   "outputs": [
    {
     "name": "stdin",
     "output_type": "stream",
     "text": [
      "Enter number of elements :  5\n",
      " 4454\n",
      " 434232\n",
      " 232\n",
      " 213\n",
      " 66\n"
     ]
    },
    {
     "name": "stdout",
     "output_type": "stream",
     "text": [
      "original list [4454, 434232, 232, 213, 66]\n",
      "sorted list [66, 213, 232, 4454, 434232]\n"
     ]
    }
   ],
   "source": [
    "lst=[]\n",
    "n = int(input(\"Enter number of elements : \"))\n",
    "for i in range(0, n):\n",
    "    ele = int(input())\n",
    "    lst.append(ele)\n",
    "print(\"original list\",lst)\n",
    "for i in range(0, len(lst)):\n",
    "    for j in range(i+1, len(lst)):\n",
    "            if lst[i] >= lst[j]:\n",
    "                lst[i], lst[j] = lst[j],lst[i]\n",
    "print(\"sorted list\",lst)\n",
    "    "
   ]
  },
  {
   "cell_type": "code",
   "execution_count": null,
   "id": "b90eb6c9-260c-4021-a355-06cf178e07d6",
   "metadata": {},
   "outputs": [],
   "source": []
  },
  {
   "cell_type": "code",
   "execution_count": null,
   "id": "43e7ea18-111a-464c-9bf5-1138369ceafb",
   "metadata": {},
   "outputs": [],
   "source": []
  },
  {
   "cell_type": "code",
   "execution_count": null,
   "id": "19b8bd47-78b2-4c4d-8bdb-ba75242633fc",
   "metadata": {},
   "outputs": [],
   "source": []
  },
  {
   "cell_type": "code",
   "execution_count": null,
   "id": "292a05a6-c78f-4f1c-94f7-44fb14ca3db6",
   "metadata": {},
   "outputs": [],
   "source": []
  },
  {
   "cell_type": "code",
   "execution_count": null,
   "id": "0fa343df-eeda-4c80-b87a-48ba65323098",
   "metadata": {},
   "outputs": [],
   "source": []
  }
 ],
 "metadata": {
  "kernelspec": {
   "display_name": "Python 3 (ipykernel)",
   "language": "python",
   "name": "python3"
  },
  "language_info": {
   "codemirror_mode": {
    "name": "ipython",
    "version": 3
   },
   "file_extension": ".py",
   "mimetype": "text/x-python",
   "name": "python",
   "nbconvert_exporter": "python",
   "pygments_lexer": "ipython3",
   "version": "3.12.4"
  }
 },
 "nbformat": 4,
 "nbformat_minor": 5
}
