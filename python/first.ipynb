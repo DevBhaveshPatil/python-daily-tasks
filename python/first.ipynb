{
 "cells": [
  {
   "cell_type": "code",
   "execution_count": 1,
   "id": "cab58818-2545-49f1-a5e2-459926139a66",
   "metadata": {},
   "outputs": [
    {
     "data": {
      "text/plain": [
       "10"
      ]
     },
     "execution_count": 1,
     "metadata": {},
     "output_type": "execute_result"
    }
   ],
   "source": [
    "5+5"
   ]
  },
  {
   "cell_type": "code",
   "execution_count": 1,
   "id": "73f3d7a3-8aa7-4149-b569-5a766b65e5d3",
   "metadata": {},
   "outputs": [
    {
     "name": "stderr",
     "output_type": "stream",
     "text": [
      "<>:1: SyntaxWarning: \"is\" with 'int' literal. Did you mean \"==\"?\n",
      "<>:1: SyntaxWarning: \"is\" with 'int' literal. Did you mean \"==\"?\n",
      "C:\\Users\\ACER\\AppData\\Local\\Temp\\ipykernel_8004\\660715304.py:1: SyntaxWarning: \"is\" with 'int' literal. Did you mean \"==\"?\n",
      "  1 is integer\n",
      "C:\\Users\\ACER\\AppData\\Local\\Temp\\ipykernel_8004\\660715304.py:1: SyntaxWarning: \"is\" with 'int' literal. Did you mean \"==\"?\n",
      "  1 is integer\n",
      "C:\\Users\\ACER\\AppData\\Local\\Temp\\ipykernel_8004\\660715304.py:1: SyntaxWarning: \"is\" with 'int' literal. Did you mean \"==\"?\n",
      "  1 is integer\n",
      "C:\\Users\\ACER\\AppData\\Local\\Temp\\ipykernel_8004\\660715304.py:1: SyntaxWarning: \"is\" with 'int' literal. Did you mean \"==\"?\n",
      "  1 is integer\n",
      "C:\\Users\\ACER\\AppData\\Local\\Temp\\ipykernel_8004\\660715304.py:1: SyntaxWarning: \"is\" with 'int' literal. Did you mean \"==\"?\n",
      "  1 is integer\n"
     ]
    },
    {
     "ename": "NameError",
     "evalue": "name 'integer' is not defined",
     "output_type": "error",
     "traceback": [
      "\u001b[1;31m---------------------------------------------------------------------------\u001b[0m",
      "\u001b[1;31mNameError\u001b[0m                                 Traceback (most recent call last)",
      "Cell \u001b[1;32mIn[1], line 1\u001b[0m\n\u001b[1;32m----> 1\u001b[0m \u001b[38;5;241m1\u001b[39m \u001b[38;5;129;01mis\u001b[39;00m integer\n",
      "\u001b[1;31mNameError\u001b[0m: name 'integer' is not defined"
     ]
    }
   ],
   "source": [
    "1 is integer"
   ]
  },
  {
   "cell_type": "code",
   "execution_count": 3,
   "id": "4d306fb9-315f-44ea-b7e7-00a6889f4beb",
   "metadata": {},
   "outputs": [
    {
     "ename": "SyntaxError",
     "evalue": "invalid syntax (1067797033.py, line 1)",
     "output_type": "error",
     "traceback": [
      "\u001b[1;36m  Cell \u001b[1;32mIn[3], line 1\u001b[1;36m\u001b[0m\n\u001b[1;33m    1 is\u001b[0m\n\u001b[1;37m        ^\u001b[0m\n\u001b[1;31mSyntaxError\u001b[0m\u001b[1;31m:\u001b[0m invalid syntax\n"
     ]
    }
   ],
   "source": [
    "1 is"
   ]
  },
  {
   "cell_type": "code",
   "execution_count": 5,
   "id": "120f9f98-dfc0-4169-81cb-b703377304b8",
   "metadata": {},
   "outputs": [],
   "source": [
    "form=1\n"
   ]
  },
  {
   "cell_type": "code",
   "execution_count": 7,
   "id": "c54ec260-88fc-43a3-96f9-6d06fa3ade5a",
   "metadata": {},
   "outputs": [
    {
     "name": "stderr",
     "output_type": "stream",
     "text": [
      "<>:1: SyntaxWarning: \"is\" with 'int' literal. Did you mean \"==\"?\n",
      "<>:1: SyntaxWarning: \"is\" with 'int' literal. Did you mean \"==\"?\n",
      "C:\\Users\\ACER\\AppData\\Local\\Temp\\ipykernel_8004\\1247350434.py:1: SyntaxWarning: \"is\" with 'int' literal. Did you mean \"==\"?\n",
      "  1 is form\n"
     ]
    },
    {
     "data": {
      "text/plain": [
       "True"
      ]
     },
     "execution_count": 7,
     "metadata": {},
     "output_type": "execute_result"
    }
   ],
   "source": [
    "1 is form\n"
   ]
  },
  {
   "cell_type": "code",
   "execution_count": 9,
   "id": "3dfe5c82-47d6-42fe-9020-c1962213a64c",
   "metadata": {},
   "outputs": [],
   "source": [
    "x = [\"apple\", \"banana\"]\n",
    "y = [\"apple\", \"banana\"]\n",
    "z = x"
   ]
  },
  {
   "cell_type": "code",
   "execution_count": 11,
   "id": "73642a10-436e-4490-95f3-d29fb44336f3",
   "metadata": {},
   "outputs": [
    {
     "data": {
      "text/plain": [
       "False"
      ]
     },
     "execution_count": 11,
     "metadata": {},
     "output_type": "execute_result"
    }
   ],
   "source": [
    "x is y\n",
    "\n"
   ]
  },
  {
   "cell_type": "code",
   "execution_count": 13,
   "id": "42d26c6b-4eb4-4b20-9c67-668d9334c167",
   "metadata": {},
   "outputs": [
    {
     "data": {
      "text/plain": [
       "True"
      ]
     },
     "execution_count": 13,
     "metadata": {},
     "output_type": "execute_result"
    }
   ],
   "source": [
    "x is z\n"
   ]
  },
  {
   "cell_type": "code",
   "execution_count": 3,
   "id": "fd69c230-9b17-45e7-99cb-dc39e279d97b",
   "metadata": {},
   "outputs": [
    {
     "ename": "SyntaxError",
     "evalue": "invalid decimal literal (4132262727.py, line 1)",
     "output_type": "error",
     "traceback": [
      "\u001b[1;36m  Cell \u001b[1;32mIn[3], line 1\u001b[1;36m\u001b[0m\n\u001b[1;33m    2name=wer\u001b[0m\n\u001b[1;37m    ^\u001b[0m\n\u001b[1;31mSyntaxError\u001b[0m\u001b[1;31m:\u001b[0m invalid decimal literal\n"
     ]
    }
   ],
   "source": [
    "2name=wer\n",
    "\n"
   ]
  },
  {
   "cell_type": "code",
   "execution_count": 19,
   "id": "89fede36-5665-4f95-a873-993b3cb61634",
   "metadata": {},
   "outputs": [],
   "source": [
    "city=\"pune\""
   ]
  },
  {
   "cell_type": "code",
   "execution_count": 21,
   "id": "6450113c-09ef-466b-91b4-b71406a40825",
   "metadata": {},
   "outputs": [
    {
     "data": {
      "text/plain": [
       "'pune'"
      ]
     },
     "execution_count": 21,
     "metadata": {},
     "output_type": "execute_result"
    }
   ],
   "source": [
    "city"
   ]
  },
  {
   "cell_type": "code",
   "execution_count": 23,
   "id": "301922e9-0dce-4fa2-acc7-bb71350752b8",
   "metadata": {},
   "outputs": [
    {
     "ename": "NameError",
     "evalue": "name 'pune' is not defined",
     "output_type": "error",
     "traceback": [
      "\u001b[1;31m---------------------------------------------------------------------------\u001b[0m",
      "\u001b[1;31mNameError\u001b[0m                                 Traceback (most recent call last)",
      "Cell \u001b[1;32mIn[23], line 1\u001b[0m\n\u001b[1;32m----> 1\u001b[0m _name \u001b[38;5;241m=\u001b[39m pune\n",
      "\u001b[1;31mNameError\u001b[0m: name 'pune' is not defined"
     ]
    }
   ],
   "source": [
    "_name = pune"
   ]
  },
  {
   "cell_type": "code",
   "execution_count": 25,
   "id": "ba008ae3-2ae2-4ec1-8132-052bb207c357",
   "metadata": {},
   "outputs": [],
   "source": [
    "_name=\"pune\""
   ]
  },
  {
   "cell_type": "code",
   "execution_count": 27,
   "id": "bbe621b1-f4cd-49e3-a26f-d4662c7d85ea",
   "metadata": {},
   "outputs": [
    {
     "data": {
      "text/plain": [
       "'pune'"
      ]
     },
     "execution_count": 27,
     "metadata": {},
     "output_type": "execute_result"
    }
   ],
   "source": [
    "_name"
   ]
  },
  {
   "cell_type": "code",
   "execution_count": 29,
   "id": "e115560a-0b7b-415f-a896-0cce02fa7581",
   "metadata": {},
   "outputs": [
    {
     "ename": "SyntaxError",
     "evalue": "invalid syntax. Maybe you meant '==' or ':=' instead of '='? (65657333.py, line 1)",
     "output_type": "error",
     "traceback": [
      "\u001b[1;36m  Cell \u001b[1;32mIn[29], line 1\u001b[1;36m\u001b[0m\n\u001b[1;33m    @name ='pune'\u001b[0m\n\u001b[1;37m     ^\u001b[0m\n\u001b[1;31mSyntaxError\u001b[0m\u001b[1;31m:\u001b[0m invalid syntax. Maybe you meant '==' or ':=' instead of '='?\n"
     ]
    }
   ],
   "source": [
    "@name ='pune'"
   ]
  },
  {
   "cell_type": "code",
   "execution_count": 31,
   "id": "cedec018-ede0-4e18-a74c-fb498d755629",
   "metadata": {},
   "outputs": [],
   "source": [
    "name ='pune'"
   ]
  },
  {
   "cell_type": "code",
   "execution_count": 33,
   "id": "4c026a26-1f60-416d-8c0d-2519b5505eca",
   "metadata": {},
   "outputs": [
    {
     "data": {
      "text/plain": [
       "'pune'"
      ]
     },
     "execution_count": 33,
     "metadata": {},
     "output_type": "execute_result"
    }
   ],
   "source": [
    "name"
   ]
  },
  {
   "cell_type": "code",
   "execution_count": 35,
   "id": "f7c2a959-9864-4d98-9f48-d05aa7eeb50a",
   "metadata": {},
   "outputs": [],
   "source": [
    "Roll_Number = 47"
   ]
  },
  {
   "cell_type": "code",
   "execution_count": 37,
   "id": "c0b8b147-280d-4952-ac63-8bb91ff80b5a",
   "metadata": {},
   "outputs": [
    {
     "data": {
      "text/plain": [
       "47"
      ]
     },
     "execution_count": 37,
     "metadata": {},
     "output_type": "execute_result"
    }
   ],
   "source": [
    "Roll_Number\n"
   ]
  },
  {
   "cell_type": "code",
   "execution_count": 39,
   "id": "ce20ccf6-e97a-410b-9c56-33983182b4ca",
   "metadata": {},
   "outputs": [
    {
     "ename": "SyntaxError",
     "evalue": "invalid syntax (1882518577.py, line 1)",
     "output_type": "error",
     "traceback": [
      "\u001b[1;36m  Cell \u001b[1;32mIn[39], line 1\u001b[1;36m\u001b[0m\n\u001b[1;33m    is = \"richie rich\"\u001b[0m\n\u001b[1;37m    ^\u001b[0m\n\u001b[1;31mSyntaxError\u001b[0m\u001b[1;31m:\u001b[0m invalid syntax\n"
     ]
    }
   ],
   "source": [
    "is = \"richie rich\""
   ]
  },
  {
   "cell_type": "code",
   "execution_count": 41,
   "id": "460b9d55-8b6b-40ec-af6e-5d69af852a04",
   "metadata": {},
   "outputs": [
    {
     "ename": "NameError",
     "evalue": "name 'apple' is not defined",
     "output_type": "error",
     "traceback": [
      "\u001b[1;31m---------------------------------------------------------------------------\u001b[0m",
      "\u001b[1;31mNameError\u001b[0m                                 Traceback (most recent call last)",
      "Cell \u001b[1;32mIn[41], line 1\u001b[0m\n\u001b[1;32m----> 1\u001b[0m apple \u001b[38;5;129;01min\u001b[39;00m x\n",
      "\u001b[1;31mNameError\u001b[0m: name 'apple' is not defined"
     ]
    }
   ],
   "source": [
    "apple in x\n"
   ]
  },
  {
   "cell_type": "code",
   "execution_count": 43,
   "id": "0005c052-1e9f-4546-983b-47dc0586f7ef",
   "metadata": {},
   "outputs": [],
   "source": [
    "x = [\"apple\", \"banana\"]\n",
    "y = [\"apple\", \"banana\"]\n",
    "z = x"
   ]
  },
  {
   "cell_type": "code",
   "execution_count": 45,
   "id": "ac8b86c4-f9a3-4411-8601-233988a5635e",
   "metadata": {},
   "outputs": [
    {
     "ename": "NameError",
     "evalue": "name 'apple' is not defined",
     "output_type": "error",
     "traceback": [
      "\u001b[1;31m---------------------------------------------------------------------------\u001b[0m",
      "\u001b[1;31mNameError\u001b[0m                                 Traceback (most recent call last)",
      "Cell \u001b[1;32mIn[45], line 1\u001b[0m\n\u001b[1;32m----> 1\u001b[0m apple \u001b[38;5;129;01min\u001b[39;00m x\n",
      "\u001b[1;31mNameError\u001b[0m: name 'apple' is not defined"
     ]
    }
   ],
   "source": [
    "apple in x\n"
   ]
  },
  {
   "cell_type": "code",
   "execution_count": 47,
   "id": "d53d452a-413e-4d17-b328-88e0d976a212",
   "metadata": {},
   "outputs": [
    {
     "data": {
      "text/plain": [
       "True"
      ]
     },
     "execution_count": 47,
     "metadata": {},
     "output_type": "execute_result"
    }
   ],
   "source": [
    "\"apple\" in x\n"
   ]
  },
  {
   "cell_type": "code",
   "execution_count": 49,
   "id": "b2a67969-df40-49fa-99e3-56183c978c8a",
   "metadata": {},
   "outputs": [
    {
     "data": {
      "text/plain": [
       "False"
      ]
     },
     "execution_count": 49,
     "metadata": {},
     "output_type": "execute_result"
    }
   ],
   "source": [
    "'orange'in x"
   ]
  },
  {
   "cell_type": "code",
   "execution_count": 51,
   "id": "c95406f2-e549-45ac-9ee3-81b1ee404639",
   "metadata": {},
   "outputs": [
    {
     "ename": "TypeError",
     "evalue": "unsupported operand type(s) for &: 'list' and 'list'",
     "output_type": "error",
     "traceback": [
      "\u001b[1;31m---------------------------------------------------------------------------\u001b[0m",
      "\u001b[1;31mTypeError\u001b[0m                                 Traceback (most recent call last)",
      "Cell \u001b[1;32mIn[51], line 1\u001b[0m\n\u001b[1;32m----> 1\u001b[0m x \u001b[38;5;241m&\u001b[39m y\n",
      "\u001b[1;31mTypeError\u001b[0m: unsupported operand type(s) for &: 'list' and 'list'"
     ]
    }
   ],
   "source": [
    "x & y\n"
   ]
  },
  {
   "cell_type": "code",
   "execution_count": 59,
   "id": "173436ba-a5de-4eb0-9dac-ed29561f68b6",
   "metadata": {},
   "outputs": [
    {
     "name": "stdout",
     "output_type": "stream",
     "text": [
      "a & b = 0\n"
     ]
    }
   ],
   "source": [
    "a = 4\n",
    "b = 10\n",
    "\n",
    "\n",
    "# Print bitwise AND operation\n",
    "print(\"a & b =\", a & b)"
   ]
  },
  {
   "cell_type": "code",
   "execution_count": 61,
   "id": "5567706b-9cbb-4847-9393-85422707144a",
   "metadata": {},
   "outputs": [
    {
     "data": {
      "text/plain": [
       "int"
      ]
     },
     "execution_count": 61,
     "metadata": {},
     "output_type": "execute_result"
    }
   ],
   "source": [
    "type(a)"
   ]
  },
  {
   "cell_type": "code",
   "execution_count": 63,
   "id": "ea0106ed-22ec-44da-96d5-da7f189fc7b8",
   "metadata": {},
   "outputs": [
    {
     "data": {
      "text/plain": [
       "list"
      ]
     },
     "execution_count": 63,
     "metadata": {},
     "output_type": "execute_result"
    }
   ],
   "source": [
    "type(x)"
   ]
  },
  {
   "cell_type": "code",
   "execution_count": 75,
   "id": "4b95833b-f73d-42cd-947d-33dae8bdf02f",
   "metadata": {},
   "outputs": [
    {
     "name": "stdout",
     "output_type": "stream",
     "text": [
      "a & b = 8\n"
     ]
    }
   ],
   "source": [
    "a = 9\n",
    "b = 10\n",
    "\n",
    "\n",
    "# Print bitwise AND operation\n",
    "print(\"a & b =\", a & b)"
   ]
  },
  {
   "cell_type": "code",
   "execution_count": 1,
   "id": "d2de444c-f8a4-490f-9f82-4d9f567e1007",
   "metadata": {},
   "outputs": [
    {
     "ename": "SyntaxError",
     "evalue": "invalid syntax (3023529786.py, line 1)",
     "output_type": "error",
     "traceback": [
      "\u001b[1;36m  Cell \u001b[1;32mIn[1], line 1\u001b[1;36m\u001b[0m\n\u001b[1;33m    a is\u001b[0m\n\u001b[1;37m        ^\u001b[0m\n\u001b[1;31mSyntaxError\u001b[0m\u001b[1;31m:\u001b[0m invalid syntax\n"
     ]
    }
   ],
   "source": [
    "a is\n"
   ]
  },
  {
   "cell_type": "code",
   "execution_count": 3,
   "id": "b4662e3e-de6a-4c10-bf96-73adc076b369",
   "metadata": {},
   "outputs": [
    {
     "ename": "SyntaxError",
     "evalue": "invalid syntax (503741748.py, line 1)",
     "output_type": "error",
     "traceback": [
      "\u001b[1;36m  Cell \u001b[1;32mIn[3], line 1\u001b[1;36m\u001b[0m\n\u001b[1;33m    9 is\u001b[0m\n\u001b[1;37m        ^\u001b[0m\n\u001b[1;31mSyntaxError\u001b[0m\u001b[1;31m:\u001b[0m invalid syntax\n"
     ]
    }
   ],
   "source": [
    "9 is"
   ]
  },
  {
   "cell_type": "code",
   "execution_count": 5,
   "id": "b4921f77-3b1d-4f08-9e49-adf736cc4d83",
   "metadata": {},
   "outputs": [
    {
     "name": "stderr",
     "output_type": "stream",
     "text": [
      "<>:1: SyntaxWarning: \"is\" with 'int' literal. Did you mean \"==\"?\n",
      "<>:1: SyntaxWarning: \"is\" with 'int' literal. Did you mean \"==\"?\n",
      "C:\\Users\\ACER\\AppData\\Local\\Temp\\ipykernel_3132\\2015741945.py:1: SyntaxWarning: \"is\" with 'int' literal. Did you mean \"==\"?\n",
      "  a is 9\n",
      "C:\\Users\\ACER\\AppData\\Local\\Temp\\ipykernel_3132\\2015741945.py:1: SyntaxWarning: \"is\" with 'int' literal. Did you mean \"==\"?\n",
      "  a is 9\n",
      "C:\\Users\\ACER\\AppData\\Local\\Temp\\ipykernel_3132\\2015741945.py:1: SyntaxWarning: \"is\" with 'int' literal. Did you mean \"==\"?\n",
      "  a is 9\n",
      "C:\\Users\\ACER\\AppData\\Local\\Temp\\ipykernel_3132\\2015741945.py:1: SyntaxWarning: \"is\" with 'int' literal. Did you mean \"==\"?\n",
      "  a is 9\n",
      "C:\\Users\\ACER\\AppData\\Local\\Temp\\ipykernel_3132\\2015741945.py:1: SyntaxWarning: \"is\" with 'int' literal. Did you mean \"==\"?\n",
      "  a is 9\n"
     ]
    },
    {
     "ename": "NameError",
     "evalue": "name 'a' is not defined",
     "output_type": "error",
     "traceback": [
      "\u001b[1;31m---------------------------------------------------------------------------\u001b[0m",
      "\u001b[1;31mNameError\u001b[0m                                 Traceback (most recent call last)",
      "Cell \u001b[1;32mIn[5], line 1\u001b[0m\n\u001b[1;32m----> 1\u001b[0m a \u001b[38;5;129;01mis\u001b[39;00m \u001b[38;5;241m9\u001b[39m\n",
      "\u001b[1;31mNameError\u001b[0m: name 'a' is not defined"
     ]
    }
   ],
   "source": [
    "a is 9"
   ]
  },
  {
   "cell_type": "code",
   "execution_count": 15,
   "id": "0e7fd924-9734-4855-8afa-76e521d98bdd",
   "metadata": {},
   "outputs": [
    {
     "name": "stdin",
     "output_type": "stream",
     "text": [
      "plz give the input 6\n"
     ]
    }
   ],
   "source": [
    "b =input(\"plz give the input\")"
   ]
  },
  {
   "cell_type": "code",
   "execution_count": 17,
   "id": "dae08a65-1f33-43a1-a00f-03c3743f4266",
   "metadata": {},
   "outputs": [
    {
     "data": {
      "text/plain": [
       "str"
      ]
     },
     "execution_count": 17,
     "metadata": {},
     "output_type": "execute_result"
    }
   ],
   "source": [
    "type(b)"
   ]
  },
  {
   "cell_type": "code",
   "execution_count": 19,
   "id": "01736073-5831-4fdc-9ad8-68893048184b",
   "metadata": {},
   "outputs": [
    {
     "ename": "SyntaxError",
     "evalue": "incomplete input (1625207913.py, line 1)",
     "output_type": "error",
     "traceback": [
      "\u001b[1;36m  Cell \u001b[1;32mIn[19], line 1\u001b[1;36m\u001b[0m\n\u001b[1;33m    print(type(b)\u001b[0m\n\u001b[1;37m                 ^\u001b[0m\n\u001b[1;31mSyntaxError\u001b[0m\u001b[1;31m:\u001b[0m incomplete input\n"
     ]
    }
   ],
   "source": [
    "print(type(b)"
   ]
  },
  {
   "cell_type": "code",
   "execution_count": 21,
   "id": "cf679d41-aa8a-4409-92b8-aecf65a999c1",
   "metadata": {},
   "outputs": [
    {
     "name": "stdout",
     "output_type": "stream",
     "text": [
      "<class 'str'>\n"
     ]
    }
   ],
   "source": [
    "print(type(b))"
   ]
  },
  {
   "cell_type": "code",
   "execution_count": 23,
   "id": "f50022bd-40bd-47eb-85b6-73c55a400475",
   "metadata": {},
   "outputs": [
    {
     "name": "stdin",
     "output_type": "stream",
     "text": [
      "please enter the message 7378450384\n"
     ]
    }
   ],
   "source": [
    "c=int(input(\"please enter the message\"))"
   ]
  },
  {
   "cell_type": "code",
   "execution_count": 29,
   "id": "4027fb21-8d6b-4a18-82af-bf0657f1fd58",
   "metadata": {},
   "outputs": [
    {
     "ename": "NameError",
     "evalue": "name 'C' is not defined",
     "output_type": "error",
     "traceback": [
      "\u001b[1;31m---------------------------------------------------------------------------\u001b[0m",
      "\u001b[1;31mNameError\u001b[0m                                 Traceback (most recent call last)",
      "Cell \u001b[1;32mIn[29], line 1\u001b[0m\n\u001b[1;32m----> 1\u001b[0m \u001b[38;5;28mprint\u001b[39m(\u001b[38;5;124m\"\u001b[39m\u001b[38;5;124mTHALA for REASON\u001b[39m\u001b[38;5;124m\"\u001b[39m,C)\n",
      "\u001b[1;31mNameError\u001b[0m: name 'C' is not defined"
     ]
    }
   ],
   "source": [
    "print(\"THALA for REASON\",C)"
   ]
  },
  {
   "cell_type": "code",
   "execution_count": 31,
   "id": "754d5dc8-ea43-417e-b0dd-b2681bd58e1f",
   "metadata": {},
   "outputs": [
    {
     "ename": "NameError",
     "evalue": "name 'C' is not defined",
     "output_type": "error",
     "traceback": [
      "\u001b[1;31m---------------------------------------------------------------------------\u001b[0m",
      "\u001b[1;31mNameError\u001b[0m                                 Traceback (most recent call last)",
      "Cell \u001b[1;32mIn[31], line 1\u001b[0m\n\u001b[1;32m----> 1\u001b[0m \u001b[38;5;28mprint\u001b[39m(\u001b[38;5;124m\"\u001b[39m\u001b[38;5;124mTHALA for REASON\u001b[39m\u001b[38;5;124m\"\u001b[39m,C)\n",
      "\u001b[1;31mNameError\u001b[0m: name 'C' is not defined"
     ]
    }
   ],
   "source": [
    "print(\"THALA for REASON\",C)"
   ]
  },
  {
   "cell_type": "code",
   "execution_count": 33,
   "id": "0a09e873-7a82-4a4f-ba85-7f1d9d89f346",
   "metadata": {},
   "outputs": [
    {
     "name": "stdout",
     "output_type": "stream",
     "text": [
      "THALA for REASON 7378450384\n"
     ]
    }
   ],
   "source": [
    "print(\"THALA for REASON\",c)"
   ]
  },
  {
   "cell_type": "code",
   "execution_count": 35,
   "id": "fb9ccab2-da76-4305-ae88-8ac8a5c75ef9",
   "metadata": {},
   "outputs": [
    {
     "name": "stdin",
     "output_type": "stream",
     "text": [
      "enter the first number 1.7\n",
      "enter the second number 1.6\n"
     ]
    },
    {
     "name": "stdout",
     "output_type": "stream",
     "text": [
      "addition of two number : 3.3\n"
     ]
    }
   ],
   "source": [
    "a=float(input(\"enter the first number\"))\n",
    "b=float(input(\"enter the second number\"))\n",
    "add=a+b\n",
    "print(\"addition of two number :\",add)"
   ]
  },
  {
   "cell_type": "code",
   "execution_count": 37,
   "id": "7e5cb6ae-87d0-497a-95d8-42e850e94f5a",
   "metadata": {},
   "outputs": [
    {
     "name": "stdin",
     "output_type": "stream",
     "text": [
      "enter the first number \n"
     ]
    },
    {
     "ename": "ValueError",
     "evalue": "could not convert string to float: ''",
     "output_type": "error",
     "traceback": [
      "\u001b[1;31m---------------------------------------------------------------------------\u001b[0m",
      "\u001b[1;31mValueError\u001b[0m                                Traceback (most recent call last)",
      "Cell \u001b[1;32mIn[37], line 1\u001b[0m\n\u001b[1;32m----> 1\u001b[0m a\u001b[38;5;241m=\u001b[39m\u001b[38;5;28mfloat\u001b[39m(\u001b[38;5;28minput\u001b[39m(\u001b[38;5;124m\"\u001b[39m\u001b[38;5;124menter the first number\u001b[39m\u001b[38;5;124m\"\u001b[39m))\n\u001b[0;32m      2\u001b[0m b\u001b[38;5;241m=\u001b[39m\u001b[38;5;28mfloat\u001b[39m(\u001b[38;5;28minput\u001b[39m(\u001b[38;5;124m\"\u001b[39m\u001b[38;5;124menter the second number\u001b[39m\u001b[38;5;124m\"\u001b[39m))\n\u001b[0;32m      3\u001b[0m sub\u001b[38;5;241m=\u001b[39ma\u001b[38;5;241m-\u001b[39mb\n",
      "\u001b[1;31mValueError\u001b[0m: could not convert string to float: ''"
     ]
    }
   ],
   "source": [
    "a=float(input(\"enter the first number\"))\n",
    "b=float(input(\"enter the second number\"))\n",
    "sub=a-b\n",
    "print(\"subtraction of two number :\",sub)"
   ]
  },
  {
   "cell_type": "code",
   "execution_count": 39,
   "id": "8aa0f9d1-d4ee-4539-a483-c7c6185c0aa6",
   "metadata": {},
   "outputs": [
    {
     "name": "stdin",
     "output_type": "stream",
     "text": [
      "enter the first number 1\n",
      "enter the second number 3\n"
     ]
    },
    {
     "name": "stdout",
     "output_type": "stream",
     "text": [
      "subtraction of two number : -2.0\n"
     ]
    }
   ],
   "source": [
    "a=float(input(\"enter the first number\"))\n",
    "b=float(input(\"enter the second number\"))\n",
    "sub=a-b\n",
    "print(\"subtraction of two number :\",sub)"
   ]
  },
  {
   "cell_type": "code",
   "execution_count": 41,
   "id": "9f1c594f-ff01-4f57-b321-ee89567eb434",
   "metadata": {},
   "outputs": [
    {
     "name": "stdin",
     "output_type": "stream",
     "text": [
      "enter the first number 2.6789\n",
      "enter the second number 32243444.5644\n"
     ]
    },
    {
     "name": "stdout",
     "output_type": "stream",
     "text": [
      "multipication of two number : 86376963.64357115\n"
     ]
    }
   ],
   "source": [
    "mul"
   ]
  },
  {
   "cell_type": "code",
   "execution_count": 43,
   "id": "d0d7fbc8-1d32-40e5-8c92-c5523ed03a69",
   "metadata": {},
   "outputs": [
    {
     "name": "stdin",
     "output_type": "stream",
     "text": [
      "enter the base number 12\n",
      "enter the power  3\n"
     ]
    },
    {
     "name": "stdout",
     "output_type": "stream",
     "text": [
      "12.0 raised to 3.0 is 1728.0\n"
     ]
    }
   ],
   "source": [
    "a=float(input(\"enter the base number\"))\n",
    "b=float(input(\"enter the power \"))\n",
    "exp=a**b\n",
    "print( a,\"raised to\",b,\"is\",exp)"
   ]
  },
  {
   "cell_type": "code",
   "execution_count": 45,
   "id": "283c5726-323a-4868-a83e-12b525f35e9d",
   "metadata": {},
   "outputs": [
    {
     "data": {
      "text/plain": [
       "12.0"
      ]
     },
     "execution_count": 45,
     "metadata": {},
     "output_type": "execute_result"
    }
   ],
   "source": [
    "a"
   ]
  },
  {
   "cell_type": "code",
   "execution_count": 47,
   "id": "00e8d148-0c7a-4b97-95d4-4835d17782e6",
   "metadata": {},
   "outputs": [
    {
     "data": {
      "text/plain": [
       "3.0"
      ]
     },
     "execution_count": 47,
     "metadata": {},
     "output_type": "execute_result"
    }
   ],
   "source": [
    "b\n"
   ]
  },
  {
   "cell_type": "code",
   "execution_count": 49,
   "id": "a2ae080e-b956-4725-adf5-14a4cec5b48f",
   "metadata": {},
   "outputs": [
    {
     "name": "stdin",
     "output_type": "stream",
     "text": [
      "enter the first number 12\n",
      "enter the second number 3\n"
     ]
    },
    {
     "name": "stdout",
     "output_type": "stream",
     "text": [
      "modulus of two number : 0.0\n"
     ]
    }
   ],
   "source": [
    "a=float(input(\"enter the first number\"))\n",
    "b=float(input(\"enter the second number\"))\n",
    "mod=a%b\n",
    "print(\"modulus of two number :\",mod)"
   ]
  },
  {
   "cell_type": "code",
   "execution_count": 51,
   "id": "57ed1237-27ce-4756-b749-e146716e99fc",
   "metadata": {},
   "outputs": [
    {
     "name": "stdin",
     "output_type": "stream",
     "text": [
      "enter the first number 12\n",
      "enter the second number 5\n"
     ]
    },
    {
     "name": "stdout",
     "output_type": "stream",
     "text": [
      "floor division of two number : 2.4\n"
     ]
    }
   ],
   "source": [
    "a=float(input(\"enter the first number\"))\n",
    "b=float(input(\"enter the second number\"))\n",
    "floor=a/b\n",
    "print(\"floor division of two number :\",floor)"
   ]
  },
  {
   "cell_type": "code",
   "execution_count": 53,
   "id": "a29e6b9d-7321-4317-aa07-e638448084f4",
   "metadata": {},
   "outputs": [
    {
     "name": "stdin",
     "output_type": "stream",
     "text": [
      "enter the length 12.5\n",
      "enter the breadth 2.4\n"
     ]
    },
    {
     "name": "stdout",
     "output_type": "stream",
     "text": [
      "area of rectangle whose length is 12.5 and breadth is 2.4 : 30.0\n"
     ]
    }
   ],
   "source": [
    "a=float(input(\"enter the length\"))\n",
    "b=float(input(\"enter the breadth\"))\n",
    "area=a*b\n",
    "print(\"area of rectangle whose length is\",a,\"and breadth is\",b,\":\",area)"
   ]
  },
  {
   "cell_type": "code",
   "execution_count": 55,
   "id": "bec293fd-1471-4d4f-910c-fa0d8dadf59e",
   "metadata": {},
   "outputs": [
    {
     "name": "stdin",
     "output_type": "stream",
     "text": [
      "enter the length 12\n"
     ]
    },
    {
     "name": "stdout",
     "output_type": "stream",
     "text": [
      "area of square whose length is 12.0 : 144.0\n"
     ]
    }
   ],
   "source": [
    "a=float(input(\"enter the length\"))\n",
    "area=a**2\n",
    "print(\"area of square whose length is\",a,\":\",area)"
   ]
  },
  {
   "cell_type": "code",
   "execution_count": 57,
   "id": "c514662a-044b-47c3-b2c1-c64c2e378a8b",
   "metadata": {},
   "outputs": [
    {
     "name": "stdin",
     "output_type": "stream",
     "text": [
      "enter the radius 24.56\n"
     ]
    },
    {
     "name": "stdout",
     "output_type": "stream",
     "text": [
      "area of circle whose radius is 24.56 : 3788.0558079999996\n"
     ]
    }
   ],
   "source": [
    "a=float(input(\"enter the radius\"))\n",
    "area=2*3.14*a**2\n",
    "print(\"area of circle whose radius is\",a,\":\",area)"
   ]
  },
  {
   "cell_type": "code",
   "execution_count": 59,
   "id": "36b67197-7845-4343-93ba-3a5cd64b2733",
   "metadata": {},
   "outputs": [
    {
     "ename": "SyntaxError",
     "evalue": "invalid syntax (1176907033.py, line 4)",
     "output_type": "error",
     "traceback": [
      "\u001b[1;36m  Cell \u001b[1;32mIn[59], line 4\u001b[1;36m\u001b[0m\n\u001b[1;33m    area=0.5*(a+b)c\u001b[0m\n\u001b[1;37m                  ^\u001b[0m\n\u001b[1;31mSyntaxError\u001b[0m\u001b[1;31m:\u001b[0m invalid syntax\n"
     ]
    }
   ],
   "source": [
    "a=float(input(\"enter the Base 1\"))\n",
    "b=float(input(\"enter the Base 2\"))\n",
    "c=float(input(\"enter the Height\"))\n",
    "area=0.5*(a+b)c\n",
    "print(\"Area of trapezium  Base1 is\",a,\" Base 2 is\",b,\"and Height is\",c,\":\",area)"
   ]
  },
  {
   "cell_type": "code",
   "execution_count": 67,
   "id": "b787458c-aad0-43cb-89f8-d1266d95ce26",
   "metadata": {},
   "outputs": [
    {
     "name": "stdin",
     "output_type": "stream",
     "text": [
      "enter the Base 1 2332\n",
      "enter the Base 2 22\n",
      "enter the Height 22\n"
     ]
    },
    {
     "name": "stdout",
     "output_type": "stream",
     "text": [
      "Area of trapezium with Base1 is 2332.0 ,Base 2 is 22.0 and Height is 22.0 : 25894.0\n"
     ]
    }
   ],
   "source": [
    "a=float(input(\"enter the Base 1\"))\n",
    "b=float(input(\"enter the Base 2\"))\n",
    "c=float(input(\"enter the Height\"))\n",
    "area=0.5*(a+b)*c\n",
    "print(\"Area of trapezium with Base1 is\",a,\",Base 2 is\",b,\"and Height is\",c,\":\",area)"
   ]
  },
  {
   "cell_type": "code",
   "execution_count": null,
   "id": "3ce42b88-2f00-43c8-8ec1-8dbc44851768",
   "metadata": {},
   "outputs": [],
   "source": []
  }
 ],
 "metadata": {
  "kernelspec": {
   "display_name": "Python 3 (ipykernel)",
   "language": "python",
   "name": "python3"
  },
  "language_info": {
   "codemirror_mode": {
    "name": "ipython",
    "version": 3
   },
   "file_extension": ".py",
   "mimetype": "text/x-python",
   "name": "python",
   "nbconvert_exporter": "python",
   "pygments_lexer": "ipython3",
   "version": "3.12.4"
  }
 },
 "nbformat": 4,
 "nbformat_minor": 5
}
