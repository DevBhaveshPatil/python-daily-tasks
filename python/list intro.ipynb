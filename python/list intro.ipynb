{
 "cells": [
  {
   "cell_type": "code",
   "execution_count": 15,
   "id": "05493197-3c0b-48ac-bb22-01cfb29a4963",
   "metadata": {},
   "outputs": [
    {
     "name": "stdin",
     "output_type": "stream",
     "text": [
      " 12\n"
     ]
    },
    {
     "name": "stdout",
     "output_type": "stream",
     "text": [
      "0xc\n"
     ]
    }
   ],
   "source": [
    "a=int(input())\n",
    "print(hex(a))"
   ]
  },
  {
   "cell_type": "code",
   "execution_count": 27,
   "id": "99064c9e-fe28-4ddc-ad9f-1fca40942417",
   "metadata": {},
   "outputs": [
    {
     "name": "stdin",
     "output_type": "stream",
     "text": [
      " 12\n"
     ]
    },
    {
     "name": "stdout",
     "output_type": "stream",
     "text": [
      "1100\n"
     ]
    }
   ],
   "source": [
    "a=int(input())\n",
    "b=bin(a)[2:]\n",
    "print(b)"
   ]
  },
  {
   "cell_type": "code",
   "execution_count": 9,
   "id": "e006d6bb-8c04-4da1-ab41-c1dd95df89c7",
   "metadata": {},
   "outputs": [
    {
     "name": "stdout",
     "output_type": "stream",
     "text": [
      "<class 'types.GenericAlias'>\n"
     ]
    }
   ],
   "source": [
    "l3=list[1,2344,334,3,343,34]\n",
    "print (type(l3))"
   ]
  },
  {
   "cell_type": "code",
   "execution_count": 13,
   "id": "77ecbd16-3e98-4e5b-b464-1d63e59a312a",
   "metadata": {},
   "outputs": [
    {
     "name": "stdout",
     "output_type": "stream",
     "text": [
      "<class 'types.GenericAlias'>\n"
     ]
    }
   ],
   "source": [
    "print (type(l3))"
   ]
  },
  {
   "cell_type": "code",
   "execution_count": 16,
   "id": "47234ceb-c1aa-4a91-93db-355d1f91db07",
   "metadata": {},
   "outputs": [
    {
     "data": {
      "text/plain": [
       "list[1, 2344, 334, 3, 343, 34]"
      ]
     },
     "execution_count": 16,
     "metadata": {},
     "output_type": "execute_result"
    }
   ],
   "source": [
    "l3"
   ]
  },
  {
   "cell_type": "code",
   "execution_count": 22,
   "id": "e7ae4908-f7bf-4b39-a4b6-68fac82b5d77",
   "metadata": {},
   "outputs": [
    {
     "name": "stdout",
     "output_type": "stream",
     "text": [
      "<class 'types.GenericAlias'>\n"
     ]
    }
   ],
   "source": [
    "print(type(l3))"
   ]
  },
  {
   "cell_type": "code",
   "execution_count": 54,
   "id": "6960ae44-4b54-42c0-bddd-3efa0b2df792",
   "metadata": {},
   "outputs": [],
   "source": [
    "l3=[1,2,3,4,5,6,7,8,9,10]"
   ]
  },
  {
   "cell_type": "code",
   "execution_count": 56,
   "id": "b7b5c7fb-5582-4957-ac3a-71f6b6707974",
   "metadata": {},
   "outputs": [
    {
     "data": {
      "text/plain": [
       "[1, 2, 3, 4, 5, 6, 7, 8, 9, 10]"
      ]
     },
     "execution_count": 56,
     "metadata": {},
     "output_type": "execute_result"
    }
   ],
   "source": [
    "l3"
   ]
  },
  {
   "cell_type": "code",
   "execution_count": 28,
   "id": "98edacbb-0278-441e-b708-469b9e0458e1",
   "metadata": {},
   "outputs": [
    {
     "name": "stdout",
     "output_type": "stream",
     "text": [
      "<class 'list'>\n"
     ]
    }
   ],
   "source": [
    "print(type(l3))"
   ]
  },
  {
   "cell_type": "code",
   "execution_count": 32,
   "id": "efe412b5-6bd4-4864-82e2-8f87b4a9dbd3",
   "metadata": {},
   "outputs": [
    {
     "ename": "IndexError",
     "evalue": "list index out of range",
     "output_type": "error",
     "traceback": [
      "\u001b[1;31m---------------------------------------------------------------------------\u001b[0m",
      "\u001b[1;31mIndexError\u001b[0m                                Traceback (most recent call last)",
      "Cell \u001b[1;32mIn[32], line 1\u001b[0m\n\u001b[1;32m----> 1\u001b[0m l3 [\u001b[38;5;241m4\u001b[39m]\n",
      "\u001b[1;31mIndexError\u001b[0m: list index out of range"
     ]
    }
   ],
   "source": [
    "l3 [4]"
   ]
  },
  {
   "cell_type": "code",
   "execution_count": 34,
   "id": "704dce3d-4e76-458e-8fa7-7d51fc9a1d92",
   "metadata": {},
   "outputs": [
    {
     "data": {
      "text/plain": [
       "[1, 'apple', 23445, 3333]"
      ]
     },
     "execution_count": 34,
     "metadata": {},
     "output_type": "execute_result"
    }
   ],
   "source": [
    "l3"
   ]
  },
  {
   "cell_type": "code",
   "execution_count": 40,
   "id": "4a078f6a-3de5-440e-87b8-a3709d1eeab2",
   "metadata": {},
   "outputs": [
    {
     "data": {
      "text/plain": [
       "[1, 'apple', 23445]"
      ]
     },
     "execution_count": 40,
     "metadata": {},
     "output_type": "execute_result"
    }
   ],
   "source": [
    "l3[0:3:1]"
   ]
  },
  {
   "cell_type": "code",
   "execution_count": 46,
   "id": "0cd83697-5924-4a3a-a76d-4a7afc74ec34",
   "metadata": {},
   "outputs": [
    {
     "data": {
      "text/plain": [
       "[1, 23445, 23334, 2838384]"
      ]
     },
     "execution_count": 46,
     "metadata": {},
     "output_type": "execute_result"
    }
   ],
   "source": [
    "l3[0:8:2]"
   ]
  },
  {
   "cell_type": "code",
   "execution_count": 48,
   "id": "e786007d-b0c7-4636-9f50-e73f713a8f5c",
   "metadata": {},
   "outputs": [
    {
     "data": {
      "text/plain": [
       "[1, 'apple', 23445, 3333, 23334, 'fhfhvhv', 2838384, 322222, 'fffdffef']"
      ]
     },
     "execution_count": 48,
     "metadata": {},
     "output_type": "execute_result"
    }
   ],
   "source": [
    "l3[:]"
   ]
  },
  {
   "cell_type": "code",
   "execution_count": 50,
   "id": "3a642586-f9c7-490c-9195-efbc80470e35",
   "metadata": {},
   "outputs": [
    {
     "data": {
      "text/plain": [
       "[1, 'apple', 23445, 3333, 23334, 'fhfhvhv', 2838384, 322222, 'fffdffef']"
      ]
     },
     "execution_count": 50,
     "metadata": {},
     "output_type": "execute_result"
    }
   ],
   "source": [
    "l3[::]"
   ]
  },
  {
   "cell_type": "code",
   "execution_count": 52,
   "id": "4366883e-d0ac-455e-8549-28e38ea1fa31",
   "metadata": {},
   "outputs": [
    {
     "data": {
      "text/plain": [
       "[1, 23445, 23334, 2838384, 'fffdffef']"
      ]
     },
     "execution_count": 52,
     "metadata": {},
     "output_type": "execute_result"
    }
   ],
   "source": [
    "\n",
    "l3[::2]"
   ]
  },
  {
   "cell_type": "code",
   "execution_count": 58,
   "id": "1bffe609-7e8b-4f70-a1d2-b8f1a831ac4b",
   "metadata": {},
   "outputs": [
    {
     "data": {
      "text/plain": [
       "[4, 5, 6, 7, 8, 9, 10]"
      ]
     },
     "execution_count": 58,
     "metadata": {},
     "output_type": "execute_result"
    }
   ],
   "source": [
    "l3[3::]"
   ]
  },
  {
   "cell_type": "code",
   "execution_count": 60,
   "id": "4f54c5ac-17de-4a0e-8042-dd92c10599f9",
   "metadata": {},
   "outputs": [
    {
     "data": {
      "text/plain": [
       "[1, 2, 3, 4, 5]"
      ]
     },
     "execution_count": 60,
     "metadata": {},
     "output_type": "execute_result"
    }
   ],
   "source": [
    "l3[:5:]"
   ]
  },
  {
   "cell_type": "code",
   "execution_count": 62,
   "id": "12ed6cee-b7b5-4c80-ac88-e007fc6dd43e",
   "metadata": {},
   "outputs": [
    {
     "data": {
      "text/plain": [
       "[]"
      ]
     },
     "execution_count": 62,
     "metadata": {},
     "output_type": "execute_result"
    }
   ],
   "source": [
    "l3[3:8:-1]"
   ]
  },
  {
   "cell_type": "code",
   "execution_count": 64,
   "id": "00cad4bf-57f2-49af-98bd-0e28b44f96e6",
   "metadata": {},
   "outputs": [
    {
     "data": {
      "text/plain": [
       "[10, 9, 8, 7, 6, 5, 4, 3, 2, 1]"
      ]
     },
     "execution_count": 64,
     "metadata": {},
     "output_type": "execute_result"
    }
   ],
   "source": [
    "l3[::-1]"
   ]
  },
  {
   "cell_type": "code",
   "execution_count": 66,
   "id": "093a5edb-8880-4880-9dea-1f71f9c2deb9",
   "metadata": {},
   "outputs": [
    {
     "data": {
      "text/plain": [
       "10"
      ]
     },
     "execution_count": 66,
     "metadata": {},
     "output_type": "execute_result"
    }
   ],
   "source": [
    "len(l3)"
   ]
  },
  {
   "cell_type": "code",
   "execution_count": 68,
   "id": "cd8eef6a-3e4b-49bd-860f-75e01bf461c5",
   "metadata": {},
   "outputs": [
    {
     "ename": "NameError",
     "evalue": "name 'math' is not defined",
     "output_type": "error",
     "traceback": [
      "\u001b[1;31m---------------------------------------------------------------------------\u001b[0m",
      "\u001b[1;31mNameError\u001b[0m                                 Traceback (most recent call last)",
      "Cell \u001b[1;32mIn[68], line 1\u001b[0m\n\u001b[1;32m----> 1\u001b[0m math(l3)\n",
      "\u001b[1;31mNameError\u001b[0m: name 'math' is not defined"
     ]
    }
   ],
   "source": [
    "math(l3)"
   ]
  },
  {
   "cell_type": "code",
   "execution_count": 76,
   "id": "04c12cf6-e705-4425-b7fe-8c127e5c2b86",
   "metadata": {},
   "outputs": [],
   "source": [
    "l3.append(11)"
   ]
  },
  {
   "cell_type": "code",
   "execution_count": 78,
   "id": "daf143be-2c9a-4925-9b9b-9b59e44d106c",
   "metadata": {},
   "outputs": [
    {
     "data": {
      "text/plain": [
       "[1, 2, 3, 4, 5, 6, 7, 8, 9, 10, 1, 11]"
      ]
     },
     "execution_count": 78,
     "metadata": {},
     "output_type": "execute_result"
    }
   ],
   "source": [
    "l3"
   ]
  },
  {
   "cell_type": "code",
   "execution_count": 80,
   "id": "973a88f3-8b01-4c9d-a1d4-34bc2915d3ba",
   "metadata": {},
   "outputs": [
    {
     "ename": "TypeError",
     "evalue": "list.append() takes exactly one argument (2 given)",
     "output_type": "error",
     "traceback": [
      "\u001b[1;31m---------------------------------------------------------------------------\u001b[0m",
      "\u001b[1;31mTypeError\u001b[0m                                 Traceback (most recent call last)",
      "Cell \u001b[1;32mIn[80], line 1\u001b[0m\n\u001b[1;32m----> 1\u001b[0m l3\u001b[38;5;241m.\u001b[39mappend(\u001b[38;5;241m20\u001b[39m,\u001b[38;5;241m30\u001b[39m)\n",
      "\u001b[1;31mTypeError\u001b[0m: list.append() takes exactly one argument (2 given)"
     ]
    }
   ],
   "source": [
    "l3.append(20,30)"
   ]
  },
  {
   "cell_type": "code",
   "execution_count": 82,
   "id": "3fb0f7cc-6e7e-41fe-a380-d679926e8bcb",
   "metadata": {},
   "outputs": [],
   "source": [
    "l3.insert(4,70)"
   ]
  },
  {
   "cell_type": "code",
   "execution_count": 84,
   "id": "305773d5-21d4-49ff-a17f-e1127154fd72",
   "metadata": {},
   "outputs": [
    {
     "data": {
      "text/plain": [
       "[1, 2, 3, 4, 70, 5, 6, 7, 8, 9, 10, 1, 11]"
      ]
     },
     "execution_count": 84,
     "metadata": {},
     "output_type": "execute_result"
    }
   ],
   "source": [
    "l3"
   ]
  },
  {
   "cell_type": "code",
   "execution_count": 86,
   "id": "a31d13ac-32b2-46d8-8b9d-8ab8631e6d79",
   "metadata": {},
   "outputs": [
    {
     "ename": "TypeError",
     "evalue": "insert expected 2 arguments, got 1",
     "output_type": "error",
     "traceback": [
      "\u001b[1;31m---------------------------------------------------------------------------\u001b[0m",
      "\u001b[1;31mTypeError\u001b[0m                                 Traceback (most recent call last)",
      "Cell \u001b[1;32mIn[86], line 1\u001b[0m\n\u001b[1;32m----> 1\u001b[0m l3\u001b[38;5;241m.\u001b[39minsert(\u001b[38;5;241m70\u001b[39m)\n",
      "\u001b[1;31mTypeError\u001b[0m: insert expected 2 arguments, got 1"
     ]
    }
   ],
   "source": [
    "l3.insert(70)#insert need 2 elements compulsory"
   ]
  },
  {
   "cell_type": "code",
   "execution_count": 88,
   "id": "8ddcbd2b-eccf-4c2e-944f-b3b82efcfa5d",
   "metadata": {},
   "outputs": [],
   "source": [
    "l3.insert(6,[100,200,300])"
   ]
  },
  {
   "cell_type": "code",
   "execution_count": 90,
   "id": "8892b503-a777-4056-a3ed-b848fb50eca4",
   "metadata": {},
   "outputs": [
    {
     "data": {
      "text/plain": [
       "[1, 2, 3, 4, 70, 5, [100, 200, 300], 6, 7, 8, 9, 10, 1, 11]"
      ]
     },
     "execution_count": 90,
     "metadata": {},
     "output_type": "execute_result"
    }
   ],
   "source": [
    "l3"
   ]
  },
  {
   "cell_type": "code",
   "execution_count": 102,
   "id": "f43eccd8-959d-4d0c-b53a-0c75f86154a3",
   "metadata": {},
   "outputs": [],
   "source": [
    "l3.extend([12,2233])"
   ]
  },
  {
   "cell_type": "code",
   "execution_count": 104,
   "id": "6c66494b-24c6-4249-9330-9fd22d6e141f",
   "metadata": {},
   "outputs": [
    {
     "data": {
      "text/plain": [
       "[1,\n",
       " 2,\n",
       " 3,\n",
       " 4,\n",
       " 70,\n",
       " 5,\n",
       " [100, 200, 300],\n",
       " 6,\n",
       " 7,\n",
       " 8,\n",
       " 9,\n",
       " 10,\n",
       " 1,\n",
       " 11,\n",
       " 12,\n",
       " 2233,\n",
       " 2,\n",
       " 3,\n",
       " 3,\n",
       " 3,\n",
       " 3,\n",
       " 2323,\n",
       " 23,\n",
       " 23,\n",
       " 23,\n",
       " 23,\n",
       " 23,\n",
       " 23,\n",
       " 23,\n",
       " 23,\n",
       " 2344,\n",
       " 42,\n",
       " 34,\n",
       " 12,\n",
       " 2233,\n",
       " 12,\n",
       " 2233]"
      ]
     },
     "execution_count": 104,
     "metadata": {},
     "output_type": "execute_result"
    }
   ],
   "source": [
    "l3"
   ]
  },
  {
   "cell_type": "code",
   "execution_count": null,
   "id": "ac97fb26-c4e4-417f-8d46-55c2319f2825",
   "metadata": {},
   "outputs": [],
   "source": []
  },
  {
   "cell_type": "code",
   "execution_count": 107,
   "id": "373fd698-5858-4022-8e71-0374e730482a",
   "metadata": {},
   "outputs": [
    {
     "data": {
      "text/plain": [
       "[1,\n",
       " 2,\n",
       " 3,\n",
       " 4,\n",
       " 70,\n",
       " 5,\n",
       " [100, 200, 300],\n",
       " 6,\n",
       " 7,\n",
       " 8,\n",
       " 9,\n",
       " 10,\n",
       " 1,\n",
       " 11,\n",
       " 12,\n",
       " 2233,\n",
       " 2,\n",
       " 3,\n",
       " 3,\n",
       " 3,\n",
       " 3,\n",
       " 2323,\n",
       " 23,\n",
       " 23,\n",
       " 23,\n",
       " 23,\n",
       " 23,\n",
       " 23,\n",
       " 23,\n",
       " 23,\n",
       " 2344,\n",
       " 42,\n",
       " 34,\n",
       " 12,\n",
       " 2233,\n",
       " 12,\n",
       " 2233]"
      ]
     },
     "execution_count": 107,
     "metadata": {},
     "output_type": "execute_result"
    }
   ],
   "source": [
    "l3"
   ]
  },
  {
   "cell_type": "code",
   "execution_count": 115,
   "id": "02101fb4-be5c-4008-9370-25ccc84c994c",
   "metadata": {},
   "outputs": [
    {
     "ename": "TypeError",
     "evalue": "'builtin_function_or_method' object is not subscriptable",
     "output_type": "error",
     "traceback": [
      "\u001b[1;31m---------------------------------------------------------------------------\u001b[0m",
      "\u001b[1;31mTypeError\u001b[0m                                 Traceback (most recent call last)",
      "Cell \u001b[1;32mIn[115], line 1\u001b[0m\n\u001b[1;32m----> 1\u001b[0m l3\u001b[38;5;241m.\u001b[39mextend[\u001b[38;5;241m22222\u001b[39m,\u001b[38;5;241m555\u001b[39m]\n",
      "\u001b[1;31mTypeError\u001b[0m: 'builtin_function_or_method' object is not subscriptable"
     ]
    }
   ],
   "source": [
    "l3.extend[22222,555]"
   ]
  },
  {
   "cell_type": "code",
   "execution_count": 113,
   "id": "f3624df8-9a52-421c-ba61-5c28f1afd9d8",
   "metadata": {},
   "outputs": [
    {
     "data": {
      "text/plain": [
       "[1,\n",
       " 2,\n",
       " 3,\n",
       " 4,\n",
       " 70,\n",
       " 5,\n",
       " [100, 200, 300],\n",
       " 6,\n",
       " 7,\n",
       " 8,\n",
       " 9,\n",
       " 10,\n",
       " 1,\n",
       " 11,\n",
       " 12,\n",
       " 2233,\n",
       " 2,\n",
       " 3,\n",
       " 3,\n",
       " 3,\n",
       " 3,\n",
       " 2323,\n",
       " 23,\n",
       " 23,\n",
       " 23,\n",
       " 23,\n",
       " 23,\n",
       " 23,\n",
       " 23,\n",
       " 23,\n",
       " 2344,\n",
       " 42,\n",
       " 34,\n",
       " 12,\n",
       " 2233,\n",
       " 12,\n",
       " 2233,\n",
       " '1',\n",
       " '2',\n",
       " ',',\n",
       " '2',\n",
       " '2',\n",
       " '3',\n",
       " '3',\n",
       " '2',\n",
       " '2',\n",
       " '2',\n",
       " '2',\n",
       " '2',\n",
       " ',',\n",
       " '5',\n",
       " '5',\n",
       " '5']"
      ]
     },
     "execution_count": 113,
     "metadata": {},
     "output_type": "execute_result"
    }
   ],
   "source": [
    "l3"
   ]
  },
  {
   "cell_type": "code",
   "execution_count": 117,
   "id": "4b56ed38-783b-43b5-b549-2ea8e2855e4e",
   "metadata": {},
   "outputs": [
    {
     "data": {
      "text/plain": [
       "'5'"
      ]
     },
     "execution_count": 117,
     "metadata": {},
     "output_type": "execute_result"
    }
   ],
   "source": [
    "l3.pop()"
   ]
  },
  {
   "cell_type": "code",
   "execution_count": 119,
   "id": "45dc0e74-6301-4ace-a184-385c251b8f8d",
   "metadata": {},
   "outputs": [
    {
     "data": {
      "text/plain": [
       "[1,\n",
       " 2,\n",
       " 3,\n",
       " 4,\n",
       " 70,\n",
       " 5,\n",
       " [100, 200, 300],\n",
       " 6,\n",
       " 7,\n",
       " 8,\n",
       " 9,\n",
       " 10,\n",
       " 1,\n",
       " 11,\n",
       " 12,\n",
       " 2233,\n",
       " 2,\n",
       " 3,\n",
       " 3,\n",
       " 3,\n",
       " 3,\n",
       " 2323,\n",
       " 23,\n",
       " 23,\n",
       " 23,\n",
       " 23,\n",
       " 23,\n",
       " 23,\n",
       " 23,\n",
       " 23,\n",
       " 2344,\n",
       " 42,\n",
       " 34,\n",
       " 12,\n",
       " 2233,\n",
       " 12,\n",
       " 2233,\n",
       " '1',\n",
       " '2',\n",
       " ',',\n",
       " '2',\n",
       " '2',\n",
       " '3',\n",
       " '3',\n",
       " '2',\n",
       " '2',\n",
       " '2',\n",
       " '2',\n",
       " '2',\n",
       " ',',\n",
       " '5',\n",
       " '5']"
      ]
     },
     "execution_count": 119,
     "metadata": {},
     "output_type": "execute_result"
    }
   ],
   "source": [
    "l3"
   ]
  },
  {
   "cell_type": "code",
   "execution_count": 121,
   "id": "8425d779-b01f-4b6a-a39e-9f0b597b14d7",
   "metadata": {},
   "outputs": [
    {
     "data": {
      "text/plain": [
       "7"
      ]
     },
     "execution_count": 121,
     "metadata": {},
     "output_type": "execute_result"
    }
   ],
   "source": [
    "l3.pop(8)"
   ]
  },
  {
   "cell_type": "code",
   "execution_count": 123,
   "id": "6e7c77e2-1714-4059-941d-b1e44765a70d",
   "metadata": {},
   "outputs": [
    {
     "data": {
      "text/plain": [
       "[1,\n",
       " 2,\n",
       " 3,\n",
       " 4,\n",
       " 70,\n",
       " 5,\n",
       " [100, 200, 300],\n",
       " 6,\n",
       " 8,\n",
       " 9,\n",
       " 10,\n",
       " 1,\n",
       " 11,\n",
       " 12,\n",
       " 2233,\n",
       " 2,\n",
       " 3,\n",
       " 3,\n",
       " 3,\n",
       " 3,\n",
       " 2323,\n",
       " 23,\n",
       " 23,\n",
       " 23,\n",
       " 23,\n",
       " 23,\n",
       " 23,\n",
       " 23,\n",
       " 23,\n",
       " 2344,\n",
       " 42,\n",
       " 34,\n",
       " 12,\n",
       " 2233,\n",
       " 12,\n",
       " 2233,\n",
       " '1',\n",
       " '2',\n",
       " ',',\n",
       " '2',\n",
       " '2',\n",
       " '3',\n",
       " '3',\n",
       " '2',\n",
       " '2',\n",
       " '2',\n",
       " '2',\n",
       " '2',\n",
       " ',',\n",
       " '5',\n",
       " '5']"
      ]
     },
     "execution_count": 123,
     "metadata": {},
     "output_type": "execute_result"
    }
   ],
   "source": [
    "l3"
   ]
  },
  {
   "cell_type": "code",
   "execution_count": 125,
   "id": "a7177933-c923-42b1-b1ce-1dfc3f964361",
   "metadata": {},
   "outputs": [],
   "source": [
    "l3.remove(\"5\")"
   ]
  },
  {
   "cell_type": "code",
   "execution_count": 127,
   "id": "f12f4827-8756-48ef-a186-e510e9d6a5f2",
   "metadata": {},
   "outputs": [
    {
     "data": {
      "text/plain": [
       "[1,\n",
       " 2,\n",
       " 3,\n",
       " 4,\n",
       " 70,\n",
       " 5,\n",
       " [100, 200, 300],\n",
       " 6,\n",
       " 8,\n",
       " 9,\n",
       " 10,\n",
       " 1,\n",
       " 11,\n",
       " 12,\n",
       " 2233,\n",
       " 2,\n",
       " 3,\n",
       " 3,\n",
       " 3,\n",
       " 3,\n",
       " 2323,\n",
       " 23,\n",
       " 23,\n",
       " 23,\n",
       " 23,\n",
       " 23,\n",
       " 23,\n",
       " 23,\n",
       " 23,\n",
       " 2344,\n",
       " 42,\n",
       " 34,\n",
       " 12,\n",
       " 2233,\n",
       " 12,\n",
       " 2233,\n",
       " '1',\n",
       " '2',\n",
       " ',',\n",
       " '2',\n",
       " '2',\n",
       " '3',\n",
       " '3',\n",
       " '2',\n",
       " '2',\n",
       " '2',\n",
       " '2',\n",
       " '2',\n",
       " ',',\n",
       " '5']"
      ]
     },
     "execution_count": 127,
     "metadata": {},
     "output_type": "execute_result"
    }
   ],
   "source": [
    "l3"
   ]
  },
  {
   "cell_type": "code",
   "execution_count": 129,
   "id": "34595336-250c-42e5-a67f-4cbff99753e9",
   "metadata": {},
   "outputs": [],
   "source": [
    "l3.remove(5)"
   ]
  },
  {
   "cell_type": "code",
   "execution_count": 131,
   "id": "3944c983-65f0-4af8-85e4-f47ab3b713de",
   "metadata": {},
   "outputs": [
    {
     "data": {
      "text/plain": [
       "[1,\n",
       " 2,\n",
       " 3,\n",
       " 4,\n",
       " 70,\n",
       " [100, 200, 300],\n",
       " 6,\n",
       " 8,\n",
       " 9,\n",
       " 10,\n",
       " 1,\n",
       " 11,\n",
       " 12,\n",
       " 2233,\n",
       " 2,\n",
       " 3,\n",
       " 3,\n",
       " 3,\n",
       " 3,\n",
       " 2323,\n",
       " 23,\n",
       " 23,\n",
       " 23,\n",
       " 23,\n",
       " 23,\n",
       " 23,\n",
       " 23,\n",
       " 23,\n",
       " 2344,\n",
       " 42,\n",
       " 34,\n",
       " 12,\n",
       " 2233,\n",
       " 12,\n",
       " 2233,\n",
       " '1',\n",
       " '2',\n",
       " ',',\n",
       " '2',\n",
       " '2',\n",
       " '3',\n",
       " '3',\n",
       " '2',\n",
       " '2',\n",
       " '2',\n",
       " '2',\n",
       " '2',\n",
       " ',',\n",
       " '5']"
      ]
     },
     "execution_count": 131,
     "metadata": {},
     "output_type": "execute_result"
    }
   ],
   "source": [
    "l3"
   ]
  },
  {
   "cell_type": "code",
   "execution_count": 133,
   "id": "af0806aa-10ea-41ed-8de8-d17ebe9fa6a6",
   "metadata": {},
   "outputs": [],
   "source": [
    "del l3[3]"
   ]
  },
  {
   "cell_type": "code",
   "execution_count": 135,
   "id": "01aac936-8b2a-49ab-a18f-1fb72ac33952",
   "metadata": {},
   "outputs": [
    {
     "data": {
      "text/plain": [
       "[1,\n",
       " 2,\n",
       " 3,\n",
       " 70,\n",
       " [100, 200, 300],\n",
       " 6,\n",
       " 8,\n",
       " 9,\n",
       " 10,\n",
       " 1,\n",
       " 11,\n",
       " 12,\n",
       " 2233,\n",
       " 2,\n",
       " 3,\n",
       " 3,\n",
       " 3,\n",
       " 3,\n",
       " 2323,\n",
       " 23,\n",
       " 23,\n",
       " 23,\n",
       " 23,\n",
       " 23,\n",
       " 23,\n",
       " 23,\n",
       " 23,\n",
       " 2344,\n",
       " 42,\n",
       " 34,\n",
       " 12,\n",
       " 2233,\n",
       " 12,\n",
       " 2233,\n",
       " '1',\n",
       " '2',\n",
       " ',',\n",
       " '2',\n",
       " '2',\n",
       " '3',\n",
       " '3',\n",
       " '2',\n",
       " '2',\n",
       " '2',\n",
       " '2',\n",
       " '2',\n",
       " ',',\n",
       " '5']"
      ]
     },
     "execution_count": 135,
     "metadata": {},
     "output_type": "execute_result"
    }
   ],
   "source": [
    "l3"
   ]
  },
  {
   "cell_type": "code",
   "execution_count": 137,
   "id": "60068727-0b3e-41c1-bbc7-6f772a547c3d",
   "metadata": {},
   "outputs": [],
   "source": [
    "l3.clear()"
   ]
  },
  {
   "cell_type": "code",
   "execution_count": 139,
   "id": "56f4ea6d-676d-42fc-a563-66ae207bfcf6",
   "metadata": {},
   "outputs": [
    {
     "data": {
      "text/plain": [
       "[]"
      ]
     },
     "execution_count": 139,
     "metadata": {},
     "output_type": "execute_result"
    }
   ],
   "source": [
    "l3"
   ]
  },
  {
   "cell_type": "code",
   "execution_count": 141,
   "id": "f57ad249-f321-47db-a71a-09ebc06920ff",
   "metadata": {},
   "outputs": [],
   "source": [
    "del l3"
   ]
  },
  {
   "cell_type": "code",
   "execution_count": 143,
   "id": "8a1503c3-2b00-485b-88ef-f29464656760",
   "metadata": {},
   "outputs": [
    {
     "ename": "NameError",
     "evalue": "name 'l3' is not defined",
     "output_type": "error",
     "traceback": [
      "\u001b[1;31m---------------------------------------------------------------------------\u001b[0m",
      "\u001b[1;31mNameError\u001b[0m                                 Traceback (most recent call last)",
      "Cell \u001b[1;32mIn[143], line 1\u001b[0m\n\u001b[1;32m----> 1\u001b[0m l3\n",
      "\u001b[1;31mNameError\u001b[0m: name 'l3' is not defined"
     ]
    }
   ],
   "source": [
    "l3"
   ]
  },
  {
   "cell_type": "code",
   "execution_count": 145,
   "id": "15bb3b1a-fdca-495b-85a3-af88f3f09c5e",
   "metadata": {},
   "outputs": [],
   "source": [
    "l3=[1,2,2,3,3,3,3]"
   ]
  },
  {
   "cell_type": "code",
   "execution_count": 147,
   "id": "3f6d2f2d-7ebf-4403-a988-fd8fd7d4f18b",
   "metadata": {},
   "outputs": [
    {
     "data": {
      "text/plain": [
       "[1, 2, 2, 3, 3, 3, 3]"
      ]
     },
     "execution_count": 147,
     "metadata": {},
     "output_type": "execute_result"
    }
   ],
   "source": [
    "l3"
   ]
  },
  {
   "cell_type": "code",
   "execution_count": 151,
   "id": "9141616d-3ad5-4537-9518-5be8b27496f8",
   "metadata": {},
   "outputs": [
    {
     "ename": "AttributeError",
     "evalue": "'list' object has no attribute 'delete'",
     "output_type": "error",
     "traceback": [
      "\u001b[1;31m---------------------------------------------------------------------------\u001b[0m",
      "\u001b[1;31mAttributeError\u001b[0m                            Traceback (most recent call last)",
      "Cell \u001b[1;32mIn[151], line 1\u001b[0m\n\u001b[1;32m----> 1\u001b[0m l3\u001b[38;5;241m.\u001b[39mdelete()\n",
      "\u001b[1;31mAttributeError\u001b[0m: 'list' object has no attribute 'delete'"
     ]
    }
   ],
   "source": [
    "l3.delete()"
   ]
  },
  {
   "cell_type": "code",
   "execution_count": 155,
   "id": "003d77a1-abb5-40c1-80cc-a5985736ee05",
   "metadata": {},
   "outputs": [
    {
     "ename": "SyntaxError",
     "evalue": "invalid syntax (4116815638.py, line 1)",
     "output_type": "error",
     "traceback": [
      "\u001b[1;36m  Cell \u001b[1;32mIn[155], line 1\u001b[1;36m\u001b[0m\n\u001b[1;33m    l3.delete(1:1)\u001b[0m\n\u001b[1;37m               ^\u001b[0m\n\u001b[1;31mSyntaxError\u001b[0m\u001b[1;31m:\u001b[0m invalid syntax\n"
     ]
    }
   ],
   "source": [
    "l3.delete(1:1)"
   ]
  },
  {
   "cell_type": "code",
   "execution_count": 161,
   "id": "e27d4454-22b9-4e8e-ad6f-da68d756576b",
   "metadata": {},
   "outputs": [
    {
     "data": {
      "text/plain": [
       "[1, 2, 2, 3, 3, 3, 3]"
      ]
     },
     "execution_count": 161,
     "metadata": {},
     "output_type": "execute_result"
    }
   ],
   "source": [
    "l3"
   ]
  },
  {
   "cell_type": "code",
   "execution_count": 163,
   "id": "c1d3f760-f4d0-4d74-811b-2b22e782d33e",
   "metadata": {},
   "outputs": [],
   "source": [
    "l4=[\"north\",\"south\",\"east\",'west']"
   ]
  },
  {
   "cell_type": "code",
   "execution_count": 165,
   "id": "991ca6a4-0e78-4731-b559-a152b11aa6f2",
   "metadata": {},
   "outputs": [
    {
     "ename": "NameError",
     "evalue": "name 'L4' is not defined",
     "output_type": "error",
     "traceback": [
      "\u001b[1;31m---------------------------------------------------------------------------\u001b[0m",
      "\u001b[1;31mNameError\u001b[0m                                 Traceback (most recent call last)",
      "Cell \u001b[1;32mIn[165], line 1\u001b[0m\n\u001b[1;32m----> 1\u001b[0m L4\n",
      "\u001b[1;31mNameError\u001b[0m: name 'L4' is not defined"
     ]
    }
   ],
   "source": [
    "L4"
   ]
  },
  {
   "cell_type": "code",
   "execution_count": 167,
   "id": "9f3f1b96-f491-44d7-afdb-747bcbc5dabf",
   "metadata": {},
   "outputs": [
    {
     "data": {
      "text/plain": [
       "['north', 'south', 'east', 'west']"
      ]
     },
     "execution_count": 167,
     "metadata": {},
     "output_type": "execute_result"
    }
   ],
   "source": [
    "l4"
   ]
  },
  {
   "cell_type": "code",
   "execution_count": 169,
   "id": "11129ea1-7a82-450a-b4e3-3006cee34b5e",
   "metadata": {},
   "outputs": [],
   "source": [
    "l1=[1,2,3,4,5]\n",
    "l2=[6,7,8,9,10]"
   ]
  },
  {
   "cell_type": "code",
   "execution_count": 171,
   "id": "00812a21-b91e-4dde-834e-609db11feee5",
   "metadata": {},
   "outputs": [],
   "source": [
    "l3=l1+l2"
   ]
  },
  {
   "cell_type": "code",
   "execution_count": 173,
   "id": "4aa4063e-1783-44c8-a5a2-b22646547109",
   "metadata": {},
   "outputs": [
    {
     "data": {
      "text/plain": [
       "[1, 2, 3, 4, 5, 6, 7, 8, 9, 10]"
      ]
     },
     "execution_count": 173,
     "metadata": {},
     "output_type": "execute_result"
    }
   ],
   "source": [
    "l3"
   ]
  },
  {
   "cell_type": "code",
   "execution_count": 175,
   "id": "3bbc7e47-defb-4122-8dea-3a8a847a36f7",
   "metadata": {},
   "outputs": [
    {
     "data": {
      "text/plain": [
       "True"
      ]
     },
     "execution_count": 175,
     "metadata": {},
     "output_type": "execute_result"
    }
   ],
   "source": [
    "3 in l1"
   ]
  },
  {
   "cell_type": "code",
   "execution_count": 177,
   "id": "6657a3fc-a056-4f78-8a7a-c6d90dc78716",
   "metadata": {},
   "outputs": [
    {
     "data": {
      "text/plain": [
       "True"
      ]
     },
     "execution_count": 177,
     "metadata": {},
     "output_type": "execute_result"
    }
   ],
   "source": [
    "100 not in l2\n"
   ]
  },
  {
   "cell_type": "code",
   "execution_count": 179,
   "id": "1c3a7351-b3f2-4cd4-9163-288e4a94c693",
   "metadata": {},
   "outputs": [
    {
     "data": {
      "text/plain": [
       "False"
      ]
     },
     "execution_count": 179,
     "metadata": {},
     "output_type": "execute_result"
    }
   ],
   "source": [
    "69 in l2"
   ]
  },
  {
   "cell_type": "code",
   "execution_count": 181,
   "id": "f9084989-188d-41c0-bfab-0cc98a456989",
   "metadata": {},
   "outputs": [
    {
     "data": {
      "text/plain": [
       "[1, 2, 3, 4, 5, 6, 7, 8, 9, 10]"
      ]
     },
     "execution_count": 181,
     "metadata": {},
     "output_type": "execute_result"
    }
   ],
   "source": [
    "l3"
   ]
  },
  {
   "cell_type": "code",
   "execution_count": 187,
   "id": "0d4d1898-55e2-4c84-95e3-e1e4d33643cc",
   "metadata": {},
   "outputs": [],
   "source": [
    "l5=[]\n",
    "for i in range(len(l3)-1,-1,-1):\n",
    "    l5.append(l3[i])"
   ]
  },
  {
   "cell_type": "code",
   "execution_count": 189,
   "id": "b9f0afb8-9576-423a-b102-eae9f7b5e88f",
   "metadata": {},
   "outputs": [
    {
     "data": {
      "text/plain": [
       "[10, 9, 8, 7, 6, 5, 4, 3, 2, 1]"
      ]
     },
     "execution_count": 189,
     "metadata": {},
     "output_type": "execute_result"
    }
   ],
   "source": [
    "l5"
   ]
  },
  {
   "cell_type": "code",
   "execution_count": null,
   "id": "9a6eaab8-3234-40a4-8bf3-80c337508879",
   "metadata": {},
   "outputs": [],
   "source": []
  }
 ],
 "metadata": {
  "kernelspec": {
   "display_name": "Python 3 (ipykernel)",
   "language": "python",
   "name": "python3"
  },
  "language_info": {
   "codemirror_mode": {
    "name": "ipython",
    "version": 3
   },
   "file_extension": ".py",
   "mimetype": "text/x-python",
   "name": "python",
   "nbconvert_exporter": "python",
   "pygments_lexer": "ipython3",
   "version": "3.12.4"
  }
 },
 "nbformat": 4,
 "nbformat_minor": 5
}
