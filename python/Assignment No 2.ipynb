{
 "cells": [
  {
   "cell_type": "code",
   "execution_count": 41,
   "id": "a87b3131-973a-4576-86f7-b5b8685754cd",
   "metadata": {},
   "outputs": [
    {
     "name": "stdin",
     "output_type": "stream",
     "text": [
      " 123\n"
     ]
    },
    {
     "name": "stdout",
     "output_type": "stream",
     "text": [
      "reverse of 123 is 321\n"
     ]
    }
   ],
   "source": [
    "#Reverse the user defined number\n",
    "a=int(input())\n",
    "b=a\n",
    "rev=0\n",
    "while a>0:\n",
    "    rem=a%10 #calculate first remainder\n",
    "    rev=(rev*10)+rem #add the remainder with the reverse value\n",
    "    a=a//10\n",
    "print(\"reverse of\",b,\"is\",rev)\n",
    "\n",
    "\n",
    "    \n",
    "\n",
    "\n",
    "    \n",
    "    "
   ]
  },
  {
   "cell_type": "code",
   "execution_count": 37,
   "id": "27b6bff1-c729-4707-8b42-5e0b2d12b430",
   "metadata": {},
   "outputs": [
    {
     "name": "stdin",
     "output_type": "stream",
     "text": [
      " 313\n"
     ]
    },
    {
     "name": "stdout",
     "output_type": "stream",
     "text": [
      "it is palindrome\n"
     ]
    }
   ],
   "source": [
    "#check whether given no. is palindrome\n",
    "a=int(input())\n",
    "b=a\n",
    "rev=0\n",
    "while a>0:\n",
    "    rem=a%10 #calculate first remainder\n",
    "    rev=(rev*10)+rem #add the remainder with the reverse value\n",
    "    a=a//10\n",
    "if (rev==b):\n",
    "    print(\"it is palindrome\")\n",
    "else:\n",
    "    print(\"it is not palindrome\")\n",
    "\n"
   ]
  },
  {
   "cell_type": "code",
   "execution_count": 3,
   "id": "3500bd08-6693-4f35-becb-19f284bcf037",
   "metadata": {},
   "outputs": [
    {
     "name": "stdin",
     "output_type": "stream",
     "text": [
      " 153\n"
     ]
    },
    {
     "name": "stdout",
     "output_type": "stream",
     "text": [
      "it is armstrong\n"
     ]
    }
   ],
   "source": [
    "#armstrong problem\n",
    "a=int(input())\n",
    "cube=0\n",
    "b=a\n",
    "while b>0:\n",
    "    c=b%10\n",
    "    cube+=c**3 \n",
    "    b //=10\n",
    "    \n",
    "if (cube==a):\n",
    "    print(\"it is armstrong\")\n",
    "else:\n",
    "    print(\"it is not armstrong\")\n",
    "\n",
    "    \n"
   ]
  },
  {
   "cell_type": "code",
   "execution_count": 13,
   "id": "d6234cf7-5123-4d9d-ae00-7ef74c111219",
   "metadata": {},
   "outputs": [
    {
     "name": "stdin",
     "output_type": "stream",
     "text": [
      "Base:  3\n",
      "Power:  2\n"
     ]
    },
    {
     "name": "stdout",
     "output_type": "stream",
     "text": [
      "9\n"
     ]
    }
   ],
   "source": [
    "#perform exponent problem without using ** function\n",
    "a=int(input(\"Base: \"))\n",
    "b=int(input(\"Power: \"))\n",
    "num=1\n",
    "exp=1\n",
    "while (num<=b):\n",
    "    exp=a*exp\n",
    "    num=num+1\n",
    "print(exp)    \n",
    "    \n",
    "    \n",
    "\n",
    "\n"
   ]
  },
  {
   "cell_type": "code",
   "execution_count": null,
   "id": "f05b9227-49df-44a8-88ac-caed7bef0a6f",
   "metadata": {},
   "outputs": [],
   "source": []
  }
 ],
 "metadata": {
  "kernelspec": {
   "display_name": "Python 3 (ipykernel)",
   "language": "python",
   "name": "python3"
  },
  "language_info": {
   "codemirror_mode": {
    "name": "ipython",
    "version": 3
   },
   "file_extension": ".py",
   "mimetype": "text/x-python",
   "name": "python",
   "nbconvert_exporter": "python",
   "pygments_lexer": "ipython3",
   "version": "3.12.4"
  }
 },
 "nbformat": 4,
 "nbformat_minor": 5
}
