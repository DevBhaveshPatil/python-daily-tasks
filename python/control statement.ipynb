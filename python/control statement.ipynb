{
 "cells": [
  {
   "cell_type": "code",
   "execution_count": 1,
   "id": "1f2a79eb-3353-43af-8c05-2df1e4646285",
   "metadata": {},
   "outputs": [
    {
     "ename": "NameError",
     "evalue": "name 'b' is not defined",
     "output_type": "error",
     "traceback": [
      "\u001b[1;31m---------------------------------------------------------------------------\u001b[0m",
      "\u001b[1;31mNameError\u001b[0m                                 Traceback (most recent call last)",
      "Cell \u001b[1;32mIn[1], line 3\u001b[0m\n\u001b[0;32m      1\u001b[0m a\u001b[38;5;241m=\u001b[39m\u001b[38;5;241m10\u001b[39m\n\u001b[0;32m      2\u001b[0m a\u001b[38;5;241m=\u001b[39m\u001b[38;5;241m5\u001b[39m\n\u001b[1;32m----> 3\u001b[0m \u001b[38;5;28;01mif\u001b[39;00m(a\u001b[38;5;241m>\u001b[39mb):\n\u001b[0;32m      4\u001b[0m     \u001b[38;5;28mprint\u001b[39m(a,\u001b[38;5;124m\"\u001b[39m\u001b[38;5;124mis greater than\u001b[39m\u001b[38;5;124m\"\u001b[39m,b)\n\u001b[0;32m      5\u001b[0m \u001b[38;5;28;01melse\u001b[39;00m:\n",
      "\u001b[1;31mNameError\u001b[0m: name 'b' is not defined"
     ]
    }
   ],
   "source": [
    "a=10\n",
    "a=5\n",
    "if(a>b):\n",
    "    print(a,\"is greater than\",b)\n",
    "else:\n",
    "    print(b,\"is greater than\",a)\n",
    "print(\"khatam tata tata bye bye\")\n"
   ]
  },
  {
   "cell_type": "code",
   "execution_count": 3,
   "id": "55dfe3b9-07bd-499d-8541-02fa6e6e18c6",
   "metadata": {},
   "outputs": [
    {
     "name": "stdout",
     "output_type": "stream",
     "text": [
      "10 is greater than 5\n",
      "khatam tata tata bye bye\n"
     ]
    }
   ],
   "source": [
    "a=10\n",
    "b=5\n",
    "if(a>b):\n",
    "    print(a,\"is greater than\",b)\n",
    "else:\n",
    "    print(b,\"is greater than\",a)\n",
    "print(\"khatam tata tata bye bye\")\n"
   ]
  },
  {
   "cell_type": "code",
   "execution_count": 5,
   "id": "f812ed04-998c-4152-b93e-2e12b17b4eb2",
   "metadata": {},
   "outputs": [
    {
     "name": "stdout",
     "output_type": "stream",
     "text": [
      "dono same hai re baba\n",
      "khatam tata tata bye bye\n"
     ]
    }
   ],
   "source": [
    "a=10\n",
    "a=5\n",
    "if(a>b):\n",
    "    print(a,\"is greater than\",b)\n",
    "elif(a<b):\n",
    "    print(b,\"is greater than\",a)\n",
    "else:\n",
    "    print(\"dono same hai re baba\")\n",
    "print(\"khatam tata tata bye bye\")\n"
   ]
  },
  {
   "cell_type": "code",
   "execution_count": 7,
   "id": "025fce26-0617-4daf-89c7-4c1d90319112",
   "metadata": {},
   "outputs": [
    {
     "name": "stdout",
     "output_type": "stream",
     "text": [
      "10 is greater than 5\n",
      "khatam tata tata bye bye\n"
     ]
    }
   ],
   "source": [
    "a=10\n",
    "b=5\n",
    "if(a>b):\n",
    "    print(a,\"is greater than\",b)\n",
    "else:\n",
    "    print(b,\"is greater than\",a)\n",
    "print(\"khatam tata tata bye bye\")\n"
   ]
  },
  {
   "cell_type": "code",
   "execution_count": 9,
   "id": "91eadc1f-b980-4c09-b65a-c83ae7efe2a8",
   "metadata": {},
   "outputs": [
    {
     "name": "stdout",
     "output_type": "stream",
     "text": [
      "10 is greater than 10\n",
      "khatam tata tata bye bye\n"
     ]
    }
   ],
   "source": [
    "a=10\n",
    "b=10\n",
    "if(a>b):\n",
    "    print(a,\"is greater than\",b)\n",
    "else:\n",
    "    print(b,\"is greater than\",a)\n",
    "print(\"khatam tata tata bye bye\")\n"
   ]
  },
  {
   "cell_type": "code",
   "execution_count": 11,
   "id": "29060375-216a-4385-bea7-7429f10fe163",
   "metadata": {},
   "outputs": [
    {
     "name": "stdout",
     "output_type": "stream",
     "text": [
      "dono same hai re baba\n",
      "khatam tata tata bye bye\n"
     ]
    }
   ],
   "source": [
    "a=10\n",
    "b=10\n",
    "if(a>b):\n",
    "    print(a,\"is greater than\",b)\n",
    "elif(a<b):\n",
    "    print(b,\"is greater than\",a)\n",
    "else:\n",
    "    print(\"dono same hai re baba\")\n",
    "print(\"khatam tata tata bye bye\")"
   ]
  },
  {
   "cell_type": "code",
   "execution_count": 13,
   "id": "ab561053-af02-4692-ad69-cde96aae2b68",
   "metadata": {},
   "outputs": [
    {
     "name": "stdout",
     "output_type": "stream",
     "text": [
      "dono same hai re baba\n",
      "khatam tata tata bye bye\n",
      "in if\n"
     ]
    }
   ],
   "source": [
    "a=10\n",
    "b=10\n",
    "if(a>b):\n",
    "    print(a,\"is greater than\",b)\n",
    "elif(a<b):\n",
    "    print(b,\"is greater than\",a)\n",
    "else:\n",
    "    print(\"dono same hai re baba\")\n",
    "print(\"khatam tata tata bye bye\")\n",
    "print(\"in if\")"
   ]
  },
  {
   "cell_type": "code",
   "execution_count": 15,
   "id": "95cab592-5dcd-445d-a518-bc66302331cd",
   "metadata": {},
   "outputs": [
    {
     "name": "stdout",
     "output_type": "stream",
     "text": [
      "dono same hai re baba\n",
      "khatam tata tata bye bye\n",
      "good bye\n"
     ]
    }
   ],
   "source": [
    "a=10\n",
    "b=10\n",
    "if(a>b):\n",
    "    print(a,\"is greater than\",b)\n",
    "elif(a<b):\n",
    "    print(b,\"is greater than\",a)\n",
    "else:\n",
    "    print(\"dono same hai re baba\")\n",
    "print(\"khatam tata tata bye bye\")\n",
    "print(\"good bye\")"
   ]
  },
  {
   "cell_type": "code",
   "execution_count": 17,
   "id": "c333f289-5abc-4952-b296-270230916e84",
   "metadata": {},
   "outputs": [
    {
     "name": "stdout",
     "output_type": "stream",
     "text": [
      "dono same hai re baba\n",
      "khatam tata tata bye bye\n",
      "good bye\n",
      "laal tamatar bade majedar\n"
     ]
    }
   ],
   "source": [
    "a=10\n",
    "b=10\n",
    "if(a>b):\n",
    "    print(a,\"is greater than\",b)\n",
    "elif(a<b):\n",
    "    print(b,\"is greater than\",a)\n",
    "else:\n",
    "    print(\"dono same hai re baba\")\n",
    "print(\"khatam tata tata bye bye\")\n",
    "print(\"good bye\")\n",
    "print(\"laal tamatar bade majedar\")\n"
   ]
  },
  {
   "cell_type": "code",
   "execution_count": null,
   "id": "e7ce72ba-ad45-4ce3-8df6-a67316f1a168",
   "metadata": {},
   "outputs": [],
   "source": []
  }
 ],
 "metadata": {
  "kernelspec": {
   "display_name": "Python 3 (ipykernel)",
   "language": "python",
   "name": "python3"
  },
  "language_info": {
   "codemirror_mode": {
    "name": "ipython",
    "version": 3
   },
   "file_extension": ".py",
   "mimetype": "text/x-python",
   "name": "python",
   "nbconvert_exporter": "python",
   "pygments_lexer": "ipython3",
   "version": "3.12.4"
  }
 },
 "nbformat": 4,
 "nbformat_minor": 5
}
