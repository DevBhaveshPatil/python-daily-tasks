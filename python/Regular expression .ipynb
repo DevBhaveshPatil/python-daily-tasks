{
 "cells": [
  {
   "cell_type": "code",
   "execution_count": 1,
   "id": "bd35d387-ea2a-4527-882e-6a2a6660dcf4",
   "metadata": {},
   "outputs": [
    {
     "name": "stdout",
     "output_type": "stream",
     "text": [
      "['ai', 'ai']\n"
     ]
    }
   ],
   "source": [
    "import re\n",
    "\n",
    "txt = 'The rain in Spain'\n",
    "x=re.findall('ai',txt)\n",
    "print(x)"
   ]
  },
  {
   "cell_type": "code",
   "execution_count": 3,
   "id": "01a95a08-341b-4550-9f1c-9450add81542",
   "metadata": {},
   "outputs": [
    {
     "name": "stdout",
     "output_type": "stream",
     "text": [
      "[]\n"
     ]
    }
   ],
   "source": [
    "import re\n",
    "\n",
    "txt = 'The rain in Spain'\n",
    "x=re.findall('Portugal',txt)\n",
    "print(x)"
   ]
  },
  {
   "cell_type": "code",
   "execution_count": 5,
   "id": "f9d318b9-d0fc-4815-9899-21d8b232ce65",
   "metadata": {},
   "outputs": [
    {
     "name": "stdout",
     "output_type": "stream",
     "text": [
      "The first white-space character is located in position: <built-in method start of re.Match object at 0x000002669970BDC0>\n"
     ]
    }
   ],
   "source": [
    "import re\n",
    "\n",
    "txt=\"The rain in Spain\"\n",
    "x=re.search(\"\\\\s\",txt)\n",
    "\n",
    "print(\"The first white-space character is located in position:\",x.start)"
   ]
  },
  {
   "cell_type": "code",
   "execution_count": 9,
   "id": "f24469ad-444e-4f29-88fb-981d85b764c9",
   "metadata": {},
   "outputs": [
    {
     "name": "stdout",
     "output_type": "stream",
     "text": [
      "['The rai', ' i', ' Spai', '']\n"
     ]
    }
   ],
   "source": [
    "import re\n",
    "\n",
    "txt=\"The rain in Spain\"\n",
    "x=re.split(\"n\",txt)\n",
    "\n",
    "print(x)"
   ]
  },
  {
   "cell_type": "code",
   "execution_count": 11,
   "id": "198b31ae-592d-46c0-bc16-57534fc701a0",
   "metadata": {},
   "outputs": [
    {
     "name": "stdout",
     "output_type": "stream",
     "text": [
      "['The', 'rain in Spain']\n"
     ]
    }
   ],
   "source": [
    "import re\n",
    "\n",
    "txt=\"The rain in Spain\"\n",
    "x=re.split(\"\\\\s\",txt,1)\n",
    "\n",
    "print(x)"
   ]
  },
  {
   "cell_type": "code",
   "execution_count": 13,
   "id": "fbcb6407-aa74-4dec-8b72-d8487cd05aa5",
   "metadata": {},
   "outputs": [
    {
     "name": "stdout",
     "output_type": "stream",
     "text": [
      "Search successful\n"
     ]
    }
   ],
   "source": [
    "import re\n",
    "\n",
    "pattern='^a*s$'\n",
    "test_string='aaaaas'\n",
    "result = re.match(pattern,test_string)\n",
    "\n",
    "if result:\n",
    "    print(\"Search successful\")\n",
    "else:\n",
    "    print(\"Search unsuccessful\")"
   ]
  },
  {
   "cell_type": "code",
   "execution_count": 15,
   "id": "7b14c985-246b-4ab8-bbb2-e12a5a03f0bf",
   "metadata": {},
   "outputs": [
    {
     "name": "stdout",
     "output_type": "stream",
     "text": [
      "Search unsuccessful\n"
     ]
    }
   ],
   "source": [
    "import re\n",
    "\n",
    "pattern='^a*s$'\n",
    "test_string='aaaaast'\n",
    "result = re.match(pattern,test_string)\n",
    "\n",
    "if result:\n",
    "    print(\"Search successful\")\n",
    "else:\n",
    "    print(\"Search unsuccessful\")"
   ]
  },
  {
   "cell_type": "code",
   "execution_count": 17,
   "id": "c94037f3-bc44-4e28-b7ca-d8f23c0c46aa",
   "metadata": {},
   "outputs": [
    {
     "name": "stdout",
     "output_type": "stream",
     "text": [
      "['12', '89', '34']\n"
     ]
    }
   ],
   "source": [
    "# Program to extract numbers from a string\n",
    "import re\n",
    "\n",
    "string= 'hello 12 hi 89. Howdy 34'\n",
    "pattern='\\\\d+'\n",
    "\n",
    "result = re.findall(pattern,string)\n",
    "print(result)"
   ]
  },
  {
   "cell_type": "code",
   "execution_count": 19,
   "id": "9e73c122-76a6-4828-8f5f-1d12a3ee2601",
   "metadata": {},
   "outputs": [
    {
     "name": "stdout",
     "output_type": "stream",
     "text": [
      "['Twelve:', ' Eighty nine:', '.']\n"
     ]
    }
   ],
   "source": [
    "import re\n",
    "string = 'Twelve:12 Eighty nine:89.'\n",
    "pattern = '\\\\d+'\n",
    "result = re.split(pattern,string)\n",
    "print(result)"
   ]
  },
  {
   "cell_type": "code",
   "execution_count": 21,
   "id": "152bde2c-30bf-4ff4-b181-772def8463fa",
   "metadata": {},
   "outputs": [
    {
     "name": "stdout",
     "output_type": "stream",
     "text": [
      "['Twelve:', ' Eighty nine:89 Nine:9.']\n"
     ]
    }
   ],
   "source": [
    "import re\n",
    "\n",
    "string = 'Twelve:12 Eighty nine:89 Nine:9.'\n",
    "pattern = '\\\\d+'\n",
    "\n",
    "# maxsplit = 1\n",
    "# split only at the first occurance\n",
    "result = re.split(pattern,string,1)\n",
    "print(result)"
   ]
  },
  {
   "cell_type": "code",
   "execution_count": 23,
   "id": "476d75d9-cf3f-49dc-81ef-97c9cd93fac0",
   "metadata": {},
   "outputs": [
    {
     "name": "stdout",
     "output_type": "stream",
     "text": [
      "abc12de23f456\n"
     ]
    }
   ],
   "source": [
    "# Program to remove all whitespaces\n",
    "import re\n",
    "\n",
    "# multiline string\n",
    "string = 'abc 12\\\n",
    "de 23 \\n f45 6'\n",
    "\n",
    "# matches all hitespaces characters\n",
    "pattern='\\\\s+'\n",
    "\n",
    "# empty string\n",
    "replace = ''\n",
    "\n",
    "new_string = re.sub(pattern,replace,string)\n",
    "print(new_string)"
   ]
  },
  {
   "cell_type": "code",
   "execution_count": 25,
   "id": "c9d43900-be23-486d-b9ca-4f4ca840d5ca",
   "metadata": {},
   "outputs": [
    {
     "name": "stdout",
     "output_type": "stream",
     "text": [
      "<re.Match object; span=(5, 7), match='ai'>\n"
     ]
    }
   ],
   "source": [
    "import re\n",
    "\n",
    "txt = \"The rain in Spain\"\n",
    "x = re.search(\"ai\",txt)\n",
    "print(x) # this will print an object"
   ]
  },
  {
   "cell_type": "code",
   "execution_count": 27,
   "id": "4eafd5f1-9168-4864-bbd7-8224c2e12efd",
   "metadata": {},
   "outputs": [
    {
     "name": "stdout",
     "output_type": "stream",
     "text": [
      "(5, 7)\n"
     ]
    }
   ],
   "source": [
    "import re\n",
    "\n",
    "txt = \"The rain in Spain\"\n",
    "x = re.search(\"ai\",txt)\n",
    "print(x.span()) "
   ]
  },
  {
   "cell_type": "code",
   "execution_count": 29,
   "id": "c275e541-5df5-4c22-ae8e-f61ce210b9fe",
   "metadata": {},
   "outputs": [
    {
     "name": "stdout",
     "output_type": "stream",
     "text": [
      "The rain in Spain\n"
     ]
    }
   ],
   "source": [
    "import re\n",
    "\n",
    "txt = \"The rain in Spain\"\n",
    "x = re.search(\"ai\",txt)\n",
    "print(x.string) "
   ]
  },
  {
   "cell_type": "code",
   "execution_count": 31,
   "id": "6e59f0d6-c8c6-45eb-8d7b-33ba448efd16",
   "metadata": {},
   "outputs": [
    {
     "name": "stdout",
     "output_type": "stream",
     "text": [
      "ai\n"
     ]
    }
   ],
   "source": [
    "import re\n",
    "\n",
    "txt = \"The rain in Spain\"\n",
    "x = re.search(\"ai\",txt)\n",
    "print(x.group()) "
   ]
  },
  {
   "cell_type": "code",
   "execution_count": null,
   "id": "87e56147-feaf-4ab4-a910-e8ad959b0e76",
   "metadata": {},
   "outputs": [],
   "source": []
  }
 ],
 "metadata": {
  "kernelspec": {
   "display_name": "Python 3 (ipykernel)",
   "language": "python",
   "name": "python3"
  },
  "language_info": {
   "codemirror_mode": {
    "name": "ipython",
    "version": 3
   },
   "file_extension": ".py",
   "mimetype": "text/x-python",
   "name": "python",
   "nbconvert_exporter": "python",
   "pygments_lexer": "ipython3",
   "version": "3.12.4"
  }
 },
 "nbformat": 4,
 "nbformat_minor": 5
}
