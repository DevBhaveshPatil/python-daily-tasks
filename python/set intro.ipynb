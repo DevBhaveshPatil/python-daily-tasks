{
 "cells": [
  {
   "cell_type": "code",
   "execution_count": 26,
   "id": "fb2d5fbd-d11f-469b-a892-b4fc90cc05f9",
   "metadata": {},
   "outputs": [],
   "source": [
    "set1={1,2,3,4,5}\n",
    "set2={9,13,455,332}\n",
    "set3={233,1,4,3232,3}"
   ]
  },
  {
   "cell_type": "code",
   "execution_count": 7,
   "id": "ef55ad10-1dde-4d29-a722-4119e6eda283",
   "metadata": {},
   "outputs": [
    {
     "ename": "SyntaxError",
     "evalue": "invalid syntax (2930458257.py, line 1)",
     "output_type": "error",
     "traceback": [
      "\u001b[1;36m  Cell \u001b[1;32mIn[7], line 1\u001b[1;36m\u001b[0m\n\u001b[1;33m    s1 isdisjoint(s2)\u001b[0m\n\u001b[1;37m       ^\u001b[0m\n\u001b[1;31mSyntaxError\u001b[0m\u001b[1;31m:\u001b[0m invalid syntax\n"
     ]
    }
   ],
   "source": [
    "s1 isdisjoint(s2)"
   ]
  },
  {
   "cell_type": "code",
   "execution_count": 11,
   "id": "2d9a7aaf-a41b-4a4a-8a41-3d73f0c5de5e",
   "metadata": {},
   "outputs": [],
   "source": [
    "s3=s1.isdisjoint(s2)"
   ]
  },
  {
   "cell_type": "code",
   "execution_count": 15,
   "id": "2eb75bcf-94f5-4b6e-b9f1-00dac4fddb3d",
   "metadata": {},
   "outputs": [
    {
     "data": {
      "text/plain": [
       "True"
      ]
     },
     "execution_count": 15,
     "metadata": {},
     "output_type": "execute_result"
    }
   ],
   "source": [
    "s3"
   ]
  },
  {
   "cell_type": "code",
   "execution_count": 28,
   "id": "341f2505-9661-40cd-8a8d-83003e0c7139",
   "metadata": {},
   "outputs": [
    {
     "name": "stdout",
     "output_type": "stream",
     "text": [
      "set1 U set2 U set3 : {3232, 1, 2, 3, 4, 5, 455, 9, 233, 332, 13}\n"
     ]
    }
   ],
   "source": [
    "print(\"set1 U set2 U set3 :\", set1.union(set2).union(set3))"
   ]
  },
  {
   "cell_type": "code",
   "execution_count": 30,
   "id": "3ffb2840-5e31-46f3-8de3-ed0ed5ad0ec9",
   "metadata": {},
   "outputs": [],
   "source": [
    "myset={2,3,4,5,6,7,8,89}"
   ]
  },
  {
   "cell_type": "code",
   "execution_count": 32,
   "id": "6dcb6480-82f5-47a5-acab-a83f88bea2b3",
   "metadata": {},
   "outputs": [],
   "source": [
    "myset.add(\"9\")"
   ]
  },
  {
   "cell_type": "code",
   "execution_count": 34,
   "id": "06c66d78-424e-44e6-abd7-4b48f5de3129",
   "metadata": {},
   "outputs": [
    {
     "data": {
      "text/plain": [
       "{2, 3, 4, 5, 6, 7, 8, 89, '9'}"
      ]
     },
     "execution_count": 34,
     "metadata": {},
     "output_type": "execute_result"
    }
   ],
   "source": [
    "myset"
   ]
  },
  {
   "cell_type": "code",
   "execution_count": 38,
   "id": "68a11821-0257-4819-ba3b-b2f19f77f961",
   "metadata": {},
   "outputs": [
    {
     "data": {
      "text/plain": [
       "{12, 2, 3, 4, 5, 6, 7, 8, 89, '9'}"
      ]
     },
     "execution_count": 38,
     "metadata": {},
     "output_type": "execute_result"
    }
   ],
   "source": [
    "myset.add(12)\n",
    "myset"
   ]
  },
  {
   "cell_type": "code",
   "execution_count": 42,
   "id": "1114e0f0-bd18-4908-9e72-fcf2c6426143",
   "metadata": {},
   "outputs": [
    {
     "data": {
      "text/plain": [
       "{12, 3, 4, 5, 6, 7, 8, 89, '9'}"
      ]
     },
     "execution_count": 42,
     "metadata": {},
     "output_type": "execute_result"
    }
   ],
   "source": [
    "myset.remove(2)\n",
    "myset"
   ]
  },
  {
   "cell_type": "code",
   "execution_count": 44,
   "id": "3d0aecb2-c106-476a-91ea-395ac37bb3af",
   "metadata": {},
   "outputs": [],
   "source": [
    "myset.discard('9')"
   ]
  },
  {
   "cell_type": "code",
   "execution_count": 46,
   "id": "e9871050-f732-4c6a-a5ee-27fd17b487f7",
   "metadata": {},
   "outputs": [
    {
     "data": {
      "text/plain": [
       "{3, 4, 5, 6, 7, 8, 12, 89}"
      ]
     },
     "execution_count": 46,
     "metadata": {},
     "output_type": "execute_result"
    }
   ],
   "source": [
    "myset"
   ]
  },
  {
   "cell_type": "code",
   "execution_count": 48,
   "id": "51a2a973-52c0-461b-9359-635e8684e2fb",
   "metadata": {},
   "outputs": [],
   "source": [
    "myset.clear()"
   ]
  },
  {
   "cell_type": "code",
   "execution_count": 50,
   "id": "03006a07-6fdf-46f5-97bc-b0999d132d11",
   "metadata": {},
   "outputs": [
    {
     "data": {
      "text/plain": [
       "set()"
      ]
     },
     "execution_count": 50,
     "metadata": {},
     "output_type": "execute_result"
    }
   ],
   "source": [
    "myset\n"
   ]
  },
  {
   "cell_type": "code",
   "execution_count": 75,
   "id": "cebd2ca8-abe2-4c51-a27c-6bea1384ccb7",
   "metadata": {},
   "outputs": [],
   "source": [
    "A={1,2,3,4,5}\n",
    "B={3,4,8,9}\n",
    "C={8,2,6,7}"
   ]
  },
  {
   "cell_type": "code",
   "execution_count": 55,
   "id": "fcce6308-980c-4700-9735-2793f26aaccb",
   "metadata": {},
   "outputs": [
    {
     "data": {
      "text/plain": [
       "{1, 2, 3, 4, 5, 8, 9}"
      ]
     },
     "execution_count": 55,
     "metadata": {},
     "output_type": "execute_result"
    }
   ],
   "source": [
    "A.union(B)"
   ]
  },
  {
   "cell_type": "code",
   "execution_count": 63,
   "id": "8b2cd806-8204-4057-a609-2444d946940a",
   "metadata": {},
   "outputs": [
    {
     "data": {
      "text/plain": [
       "{1, 2, 3, 4, 5, 8, 9, 10}"
      ]
     },
     "execution_count": 63,
     "metadata": {},
     "output_type": "execute_result"
    }
   ],
   "source": [
    "B.union(A)"
   ]
  },
  {
   "cell_type": "code",
   "execution_count": 65,
   "id": "9dd219b9-1f1d-492d-96cc-076503e71a00",
   "metadata": {},
   "outputs": [
    {
     "data": {
      "text/plain": [
       "{1, 2, 3, 4, 5, 6, 7, 8, 9, 10}"
      ]
     },
     "execution_count": 65,
     "metadata": {},
     "output_type": "execute_result"
    }
   ],
   "source": [
    "A.union(B,C)"
   ]
  },
  {
   "cell_type": "code",
   "execution_count": 67,
   "id": "e0793437-e6c0-4921-a17b-42d176b457ab",
   "metadata": {},
   "outputs": [
    {
     "data": {
      "text/plain": [
       "{3, 4}"
      ]
     },
     "execution_count": 67,
     "metadata": {},
     "output_type": "execute_result"
    }
   ],
   "source": [
    "A.intersection(B)"
   ]
  },
  {
   "cell_type": "code",
   "execution_count": 69,
   "id": "0e907c14-3f03-48dd-acbd-74309fdaeb12",
   "metadata": {},
   "outputs": [
    {
     "data": {
      "text/plain": [
       "{3, 4}"
      ]
     },
     "execution_count": 69,
     "metadata": {},
     "output_type": "execute_result"
    }
   ],
   "source": [
    "B.intersection(A)"
   ]
  },
  {
   "cell_type": "code",
   "execution_count": 71,
   "id": "926646cf-1f82-4614-b1c6-6bf9709a5c8f",
   "metadata": {},
   "outputs": [
    {
     "data": {
      "text/plain": [
       "{3, 4}"
      ]
     },
     "execution_count": 71,
     "metadata": {},
     "output_type": "execute_result"
    }
   ],
   "source": [
    "B.intersection(A)"
   ]
  },
  {
   "cell_type": "code",
   "execution_count": 91,
   "id": "219e4094-31b8-4d7b-adf3-4e51dc7aa98d",
   "metadata": {},
   "outputs": [
    {
     "data": {
      "text/plain": [
       "{1, 2, 5, 8, 9}"
      ]
     },
     "execution_count": 91,
     "metadata": {},
     "output_type": "execute_result"
    }
   ],
   "source": [
    "(A.union(B)).difference((A.intersection(B)))"
   ]
  },
  {
   "cell_type": "code",
   "execution_count": 95,
   "id": "59d9c5d7-828a-422f-b1b6-7830137ef375",
   "metadata": {},
   "outputs": [
    {
     "data": {
      "text/plain": [
       "'ejdjA'"
      ]
     },
     "execution_count": 95,
     "metadata": {},
     "output_type": "execute_result"
    }
   ],
   "source": []
  },
  {
   "cell_type": "code",
   "execution_count": null,
   "id": "72c1c22c-f02b-4838-bc10-164b5ba23aa8",
   "metadata": {},
   "outputs": [],
   "source": []
  }
 ],
 "metadata": {
  "kernelspec": {
   "display_name": "Python 3 (ipykernel)",
   "language": "python",
   "name": "python3"
  },
  "language_info": {
   "codemirror_mode": {
    "name": "ipython",
    "version": 3
   },
   "file_extension": ".py",
   "mimetype": "text/x-python",
   "name": "python",
   "nbconvert_exporter": "python",
   "pygments_lexer": "ipython3",
   "version": "3.12.4"
  }
 },
 "nbformat": 4,
 "nbformat_minor": 5
}
